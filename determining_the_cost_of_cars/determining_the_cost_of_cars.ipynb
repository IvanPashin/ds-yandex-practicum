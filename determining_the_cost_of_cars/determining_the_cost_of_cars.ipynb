{
 "cells": [
  {
   "cell_type": "markdown",
   "id": "9991e84d",
   "metadata": {
    "toc": true
   },
   "source": [
    "<h1>Содержание<span class=\"tocSkip\"></span></h1>\n",
    "<div class=\"toc\"><ul class=\"toc-item\"><li><span><a href=\"#Описание-проекта\" data-toc-modified-id=\"Описание-проекта-1\"><span class=\"toc-item-num\">1&nbsp;&nbsp;</span>Описание проекта</a></span></li><li><span><a href=\"#Первичный-анализ-данных\" data-toc-modified-id=\"Первичный-анализ-данных-2\"><span class=\"toc-item-num\">2&nbsp;&nbsp;</span>Первичный анализ данных</a></span><ul class=\"toc-item\"><li><span><a href=\"#Проверка-на-дубликаты\" data-toc-modified-id=\"Проверка-на-дубликаты-2.1\"><span class=\"toc-item-num\">2.1&nbsp;&nbsp;</span>Проверка на дубликаты</a></span></li><li><span><a href=\"#Удаление-бесполезных-признаков\" data-toc-modified-id=\"Удаление-бесполезных-признаков-2.2\"><span class=\"toc-item-num\">2.2&nbsp;&nbsp;</span>Удаление бесполезных признаков</a></span></li><li><span><a href=\"#Обзор-пропущенных-значений\" data-toc-modified-id=\"Обзор-пропущенных-значений-2.3\"><span class=\"toc-item-num\">2.3&nbsp;&nbsp;</span>Обзор пропущенных значений</a></span></li><li><span><a href=\"#Предобработка-колонки-&quot;price&quot;\" data-toc-modified-id=\"Предобработка-колонки-&quot;price&quot;-2.4\"><span class=\"toc-item-num\">2.4&nbsp;&nbsp;</span>Предобработка колонки <code>\"price\"</code></a></span></li><li><span><a href=\"#Предобработка-колонки-&quot;repaired&quot;\" data-toc-modified-id=\"Предобработка-колонки-&quot;repaired&quot;-2.5\"><span class=\"toc-item-num\">2.5&nbsp;&nbsp;</span>Предобработка колонки <code>\"repaired\"</code></a></span></li><li><span><a href=\"#Предобработка-колонки-&quot;gearbox&quot;\" data-toc-modified-id=\"Предобработка-колонки-&quot;gearbox&quot;-2.6\"><span class=\"toc-item-num\">2.6&nbsp;&nbsp;</span>Предобработка колонки <code>\"gearbox\"</code></a></span></li><li><span><a href=\"#Предобработка-колонки-&quot;vehicle_type&quot;\" data-toc-modified-id=\"Предобработка-колонки-&quot;vehicle_type&quot;-2.7\"><span class=\"toc-item-num\">2.7&nbsp;&nbsp;</span>Предобработка колонки <code>\"vehicle_type\"</code></a></span></li><li><span><a href=\"#Предобработка-колонки-&quot;model&quot;\" data-toc-modified-id=\"Предобработка-колонки-&quot;model&quot;-2.8\"><span class=\"toc-item-num\">2.8&nbsp;&nbsp;</span>Предобработка колонки <code>\"model\"</code></a></span></li><li><span><a href=\"#Предобработка-колонки-&quot;fuel_type&quot;\" data-toc-modified-id=\"Предобработка-колонки-&quot;fuel_type&quot;-2.9\"><span class=\"toc-item-num\">2.9&nbsp;&nbsp;</span>Предобработка колонки <code>\"fuel_type\"</code></a></span></li><li><span><a href=\"#Предобработка-колонки-&quot;brand&quot;\" data-toc-modified-id=\"Предобработка-колонки-&quot;brand&quot;-2.10\"><span class=\"toc-item-num\">2.10&nbsp;&nbsp;</span>Предобработка колонки <code>\"brand\"</code></a></span></li><li><span><a href=\"#Предобработка-колонки-&quot;kilometer&quot;\" data-toc-modified-id=\"Предобработка-колонки-&quot;kilometer&quot;-2.11\"><span class=\"toc-item-num\">2.11&nbsp;&nbsp;</span>Предобработка колонки <code>\"kilometer\"</code></a></span></li><li><span><a href=\"#Предобработка-колонки-&quot;registration_year&quot;\" data-toc-modified-id=\"Предобработка-колонки-&quot;registration_year&quot;-2.12\"><span class=\"toc-item-num\">2.12&nbsp;&nbsp;</span>Предобработка колонки <code>\"registration_year\"</code></a></span></li><li><span><a href=\"#Предобработка-колонки-&quot;power&quot;\" data-toc-modified-id=\"Предобработка-колонки-&quot;power&quot;-2.13\"><span class=\"toc-item-num\">2.13&nbsp;&nbsp;</span>Предобработка колонки <code>\"power\"</code></a></span></li><li><span><a href=\"#Вывод\" data-toc-modified-id=\"Вывод-2.14\"><span class=\"toc-item-num\">2.14&nbsp;&nbsp;</span>Вывод</a></span></li></ul></li><li><span><a href=\"#Построение-моделей\" data-toc-modified-id=\"Построение-моделей-3\"><span class=\"toc-item-num\">3&nbsp;&nbsp;</span>Построение моделей</a></span><ul class=\"toc-item\"><li><span><a href=\"#Разделение-исходных-данных-на-выборки\" data-toc-modified-id=\"Разделение-исходных-данных-на-выборки-3.1\"><span class=\"toc-item-num\">3.1&nbsp;&nbsp;</span>Разделение исходных данных на выборки</a></span></li><li><span><a href=\"#Обучение-моделей\" data-toc-modified-id=\"Обучение-моделей-3.2\"><span class=\"toc-item-num\">3.2&nbsp;&nbsp;</span>Обучение моделей</a></span></li><li><span><a href=\"#Проверка-качества-модели-на-тестовой-выборке\" data-toc-modified-id=\"Проверка-качества-модели-на-тестовой-выборке-3.3\"><span class=\"toc-item-num\">3.3&nbsp;&nbsp;</span>Проверка качества модели на тестовой выборке</a></span></li><li><span><a href=\"#Вывод\" data-toc-modified-id=\"Вывод-3.4\"><span class=\"toc-item-num\">3.4&nbsp;&nbsp;</span>Вывод</a></span></li></ul></li><li><span><a href=\"#Общий-вывод\" data-toc-modified-id=\"Общий-вывод-4\"><span class=\"toc-item-num\">4&nbsp;&nbsp;</span>Общий вывод</a></span></li></ul></div>"
   ]
  },
  {
   "cell_type": "markdown",
   "id": "9e9333f2",
   "metadata": {},
   "source": [
    "# Определение стоимости автомобилей"
   ]
  },
  {
   "cell_type": "markdown",
   "id": "9b6bacf2",
   "metadata": {},
   "source": [
    "## Описание проекта\n",
    "\n",
    "Сервис по продаже автомобилей с пробегом «Не бит, не крашен» разрабатывает приложение, чтобы привлечь новых клиентов. В нём можно будет узнать рыночную стоимость своего автомобиля. \n",
    "\n",
    "**Цель проекта** – подготовить прототип модели машинного обучения, определяющий стоимость автомобиля по его характеристикам со значением метрики *RMSE * менее 2500.\n",
    "\n",
    "**Задачи:**\n",
    "\n",
    "1. Составить план работы.\n",
    "2. Уточнить задачу.\n",
    "3. Разработать модель.\n",
    "4. Подготовить отчёт.\n",
    "\n",
    "***Описание данных***\n",
    "\n",
    "**Признаки**\n",
    "\n",
    "- `DateCrawled` — дата скачивания анкеты из базы\n",
    "- `VehicleType` — тип автомобильного кузова\n",
    "- `RegistrationYear` — год регистрации автомобиля\n",
    "- `Gearbox` — тип коробки передач\n",
    "- `Power` — мощность (л. с.)\n",
    "- `Model` — модель автомобиля\n",
    "- `Kilometer` — пробег (км)\n",
    "- `RegistrationMonth` — месяц регистрации автомобиля\n",
    "- `FuelType` — тип топлива\n",
    "- `Brand` — марка автомобиля\n",
    "- `Repaired` — была машина в ремонте или нет\n",
    "- `DateCreated` — дата создания анкеты\n",
    "- `NumberOfPictures` — количество фотографий автомобиля\n",
    "- `PostalCode` — почтовый индекс владельца анкеты (пользователя)\n",
    "- `LastSeen` — дата последней активности пользователя\n",
    "\n",
    "**Целевой признак**\n",
    "\n",
    "- `Price ` — цена (евро)"
   ]
  },
  {
   "cell_type": "markdown",
   "id": "b99f8433",
   "metadata": {},
   "source": [
    "## Первичный анализ данных"
   ]
  },
  {
   "cell_type": "code",
   "execution_count": 1,
   "id": "109eb35a",
   "metadata": {},
   "outputs": [],
   "source": [
    "# импортирование необходимых библиотек\n",
    "import re\n",
    "import time\n",
    "\n",
    "import pandas as pd\n",
    "import matplotlib.pyplot as plt\n",
    "import seaborn as sns\n",
    "import numpy as np\n",
    "import sklearn\n",
    "import warnings\n",
    "\n",
    "from sklearn.model_selection import train_test_split, RandomizedSearchCV\n",
    "from sklearn.metrics import mean_squared_error\n",
    "from sklearn.compose import ColumnTransformer\n",
    "from sklearn.pipeline import Pipeline\n",
    "from sklearn.preprocessing import (\n",
    "    OneHotEncoder,\n",
    "    OrdinalEncoder,\n",
    "    StandardScaler,\n",
    "    FunctionTransformer,\n",
    ")\n",
    "from sklearn.linear_model import ElasticNet\n",
    "from sklearn.ensemble import RandomForestRegressor\n",
    "from sklearn.dummy import DummyRegressor\n",
    "from catboost import CatBoostRegressor\n",
    "from lightgbm import LGBMRegressor"
   ]
  },
  {
   "cell_type": "markdown",
   "id": "a9a3365a",
   "metadata": {},
   "source": [
    "Проведем некоторые начальные настройки и приготовления"
   ]
  },
  {
   "cell_type": "code",
   "execution_count": 2,
   "id": "f451ffb9",
   "metadata": {},
   "outputs": [],
   "source": [
    "sklearn.set_config(transform_output=\"pandas\")\n",
    "warnings.filterwarnings('ignore')\n",
    "pd.set_option(\"display.max_columns\", 45)\n",
    "pd.set_option(\"display.max_rows\", 300)\n",
    "pd.options.display.float_format = '{:,.2f}'.format"
   ]
  },
  {
   "cell_type": "code",
   "execution_count": 3,
   "id": "0d10fc1d",
   "metadata": {},
   "outputs": [],
   "source": [
    "%matplotlib inline\n",
    "\n",
    "sns.set(style=\"whitegrid\")"
   ]
  },
  {
   "cell_type": "code",
   "execution_count": 4,
   "id": "4ec38907",
   "metadata": {},
   "outputs": [],
   "source": [
    "# форматы чисел для вывода\n",
    "pd.set_option('display.float_format', lambda x: '%.2f' % x)\n",
    "\n",
    "warnings.filterwarnings('ignore')"
   ]
  },
  {
   "cell_type": "code",
   "execution_count": 5,
   "id": "cb7f2341",
   "metadata": {},
   "outputs": [],
   "source": [
    "# объявление констант\n",
    "RANDOM_STATE = 271123"
   ]
  },
  {
   "cell_type": "code",
   "execution_count": 6,
   "id": "6e9bffb3",
   "metadata": {},
   "outputs": [],
   "source": [
    "def investigate_column(column):\n",
    "    print('Обзор пропущенных значений:')\n",
    "    display(column.isna().agg(['mean', 'sum', 'count']).to_frame().T\n",
    "          .style.format({'mean': '{:.2%}', 'sum': '{:.0f}','count': '{:.0f}'}))\n",
    "    print('Описательные статистики:')\n",
    "    display(column.describe(percentiles=[0.01, 0.02, 0.05, 0.25, 0.5, 0.75, 0.95, 0.98, 0.99]).to_frame().T)"
   ]
  },
  {
   "cell_type": "code",
   "execution_count": 7,
   "id": "0a7f9d25",
   "metadata": {},
   "outputs": [],
   "source": [
    "def custom_value_counts(column):\n",
    "    \"\"\"\n",
    "    Функция принимает Series и позволяет рассчитать абсолютные и относительные частоты категорий переменной.\n",
    "    Если есть пропуски, то они будут в отдельной категории.\n",
    "    Возвращает DataFrame.\n",
    "    \"\"\"\n",
    "\n",
    "    return pd.DataFrame(\n",
    "        {\n",
    "            \"size\": column.value_counts(dropna=False),\n",
    "            \"normalize_%\": column.value_counts(normalize=True, dropna=False) * 100,\n",
    "        }\n",
    "    )"
   ]
  },
  {
   "cell_type": "code",
   "execution_count": 8,
   "id": "20f30682",
   "metadata": {},
   "outputs": [],
   "source": [
    "# загрузка данных\n",
    "try:\n",
    "    data = pd.read_csv('datasets/autos.csv')\n",
    "except:\n",
    "    data = pd.read_csv('E:/ЯП/Курс_спец_Data_Science/11_Численные_методы/autos.csv')"
   ]
  },
  {
   "cell_type": "code",
   "execution_count": 9,
   "id": "1ad3585a",
   "metadata": {},
   "outputs": [
    {
     "data": {
      "text/html": [
       "<div>\n",
       "<style scoped>\n",
       "    .dataframe tbody tr th:only-of-type {\n",
       "        vertical-align: middle;\n",
       "    }\n",
       "\n",
       "    .dataframe tbody tr th {\n",
       "        vertical-align: top;\n",
       "    }\n",
       "\n",
       "    .dataframe thead th {\n",
       "        text-align: right;\n",
       "    }\n",
       "</style>\n",
       "<table border=\"1\" class=\"dataframe\">\n",
       "  <thead>\n",
       "    <tr style=\"text-align: right;\">\n",
       "      <th></th>\n",
       "      <th>DateCrawled</th>\n",
       "      <th>Price</th>\n",
       "      <th>VehicleType</th>\n",
       "      <th>RegistrationYear</th>\n",
       "      <th>Gearbox</th>\n",
       "      <th>Power</th>\n",
       "      <th>Model</th>\n",
       "      <th>Kilometer</th>\n",
       "      <th>RegistrationMonth</th>\n",
       "      <th>FuelType</th>\n",
       "      <th>Brand</th>\n",
       "      <th>Repaired</th>\n",
       "      <th>DateCreated</th>\n",
       "      <th>NumberOfPictures</th>\n",
       "      <th>PostalCode</th>\n",
       "      <th>LastSeen</th>\n",
       "    </tr>\n",
       "  </thead>\n",
       "  <tbody>\n",
       "    <tr>\n",
       "      <th>0</th>\n",
       "      <td>2016-03-24 11:52:17</td>\n",
       "      <td>480</td>\n",
       "      <td>NaN</td>\n",
       "      <td>1993</td>\n",
       "      <td>manual</td>\n",
       "      <td>0</td>\n",
       "      <td>golf</td>\n",
       "      <td>150000</td>\n",
       "      <td>0</td>\n",
       "      <td>petrol</td>\n",
       "      <td>volkswagen</td>\n",
       "      <td>NaN</td>\n",
       "      <td>2016-03-24 00:00:00</td>\n",
       "      <td>0</td>\n",
       "      <td>70435</td>\n",
       "      <td>2016-04-07 03:16:57</td>\n",
       "    </tr>\n",
       "    <tr>\n",
       "      <th>1</th>\n",
       "      <td>2016-03-24 10:58:45</td>\n",
       "      <td>18300</td>\n",
       "      <td>coupe</td>\n",
       "      <td>2011</td>\n",
       "      <td>manual</td>\n",
       "      <td>190</td>\n",
       "      <td>NaN</td>\n",
       "      <td>125000</td>\n",
       "      <td>5</td>\n",
       "      <td>gasoline</td>\n",
       "      <td>audi</td>\n",
       "      <td>yes</td>\n",
       "      <td>2016-03-24 00:00:00</td>\n",
       "      <td>0</td>\n",
       "      <td>66954</td>\n",
       "      <td>2016-04-07 01:46:50</td>\n",
       "    </tr>\n",
       "    <tr>\n",
       "      <th>2</th>\n",
       "      <td>2016-03-14 12:52:21</td>\n",
       "      <td>9800</td>\n",
       "      <td>suv</td>\n",
       "      <td>2004</td>\n",
       "      <td>auto</td>\n",
       "      <td>163</td>\n",
       "      <td>grand</td>\n",
       "      <td>125000</td>\n",
       "      <td>8</td>\n",
       "      <td>gasoline</td>\n",
       "      <td>jeep</td>\n",
       "      <td>NaN</td>\n",
       "      <td>2016-03-14 00:00:00</td>\n",
       "      <td>0</td>\n",
       "      <td>90480</td>\n",
       "      <td>2016-04-05 12:47:46</td>\n",
       "    </tr>\n",
       "  </tbody>\n",
       "</table>\n",
       "</div>"
      ],
      "text/plain": [
       "           DateCrawled  Price VehicleType  RegistrationYear Gearbox  Power  \\\n",
       "0  2016-03-24 11:52:17    480         NaN              1993  manual      0   \n",
       "1  2016-03-24 10:58:45  18300       coupe              2011  manual    190   \n",
       "2  2016-03-14 12:52:21   9800         suv              2004    auto    163   \n",
       "\n",
       "   Model  Kilometer  RegistrationMonth  FuelType       Brand Repaired  \\\n",
       "0   golf     150000                  0    petrol  volkswagen      NaN   \n",
       "1    NaN     125000                  5  gasoline        audi      yes   \n",
       "2  grand     125000                  8  gasoline        jeep      NaN   \n",
       "\n",
       "           DateCreated  NumberOfPictures  PostalCode             LastSeen  \n",
       "0  2016-03-24 00:00:00                 0       70435  2016-04-07 03:16:57  \n",
       "1  2016-03-24 00:00:00                 0       66954  2016-04-07 01:46:50  \n",
       "2  2016-03-14 00:00:00                 0       90480  2016-04-05 12:47:46  "
      ]
     },
     "execution_count": 9,
     "metadata": {},
     "output_type": "execute_result"
    }
   ],
   "source": [
    "# вывод первых 3 строк датафрейма\n",
    "data.head(3)"
   ]
  },
  {
   "cell_type": "markdown",
   "id": "11e0d977",
   "metadata": {},
   "source": [
    "Замечаем, что необходимо привести названия колонок к стилю snake_case."
   ]
  },
  {
   "cell_type": "code",
   "execution_count": 10,
   "id": "a5b36e83",
   "metadata": {},
   "outputs": [],
   "source": [
    "# приведение названий колонок к регистру snake_case\n",
    "data.columns = [re.sub('([a-z0-9])([A-Z]+)', r'\\1_\\2', x).lower() for x in data.columns.values]"
   ]
  },
  {
   "cell_type": "markdown",
   "id": "3fc3cff9",
   "metadata": {},
   "source": [
    "Посмотрим на размер датафрейма, тип значений и наличие пропущенных значений в колонках:"
   ]
  },
  {
   "cell_type": "code",
   "execution_count": 11,
   "id": "2c714b40",
   "metadata": {},
   "outputs": [
    {
     "name": "stdout",
     "output_type": "stream",
     "text": [
      "<class 'pandas.core.frame.DataFrame'>\n",
      "RangeIndex: 354369 entries, 0 to 354368\n",
      "Data columns (total 16 columns):\n",
      " #   Column              Non-Null Count   Dtype \n",
      "---  ------              --------------   ----- \n",
      " 0   date_crawled        354369 non-null  object\n",
      " 1   price               354369 non-null  int64 \n",
      " 2   vehicle_type        316879 non-null  object\n",
      " 3   registration_year   354369 non-null  int64 \n",
      " 4   gearbox             334536 non-null  object\n",
      " 5   power               354369 non-null  int64 \n",
      " 6   model               334664 non-null  object\n",
      " 7   kilometer           354369 non-null  int64 \n",
      " 8   registration_month  354369 non-null  int64 \n",
      " 9   fuel_type           321474 non-null  object\n",
      " 10  brand               354369 non-null  object\n",
      " 11  repaired            283215 non-null  object\n",
      " 12  date_created        354369 non-null  object\n",
      " 13  number_of_pictures  354369 non-null  int64 \n",
      " 14  postal_code         354369 non-null  int64 \n",
      " 15  last_seen           354369 non-null  object\n",
      "dtypes: int64(7), object(9)\n",
      "memory usage: 43.3+ MB\n"
     ]
    }
   ],
   "source": [
    "data.info()"
   ]
  },
  {
   "cell_type": "markdown",
   "id": "5a194c47",
   "metadata": {},
   "source": [
    "Исследуемый датафрейм состоит из 354369 строк и 16 столбцов. В некоторых колонках имеются пропущенные значения. Типы переменных в колонках соответствуют описанию данных за исключением столбцов с датами - `date_crawled`, `date_created` и `last_seen` - требуется преобразовать в формат `datetime`."
   ]
  },
  {
   "cell_type": "markdown",
   "id": "28f42702",
   "metadata": {},
   "source": [
    "Необходимо контролировать долю удаленных наблюдений из исходного датафрейма, выполняя предобработку данных. "
   ]
  },
  {
   "cell_type": "code",
   "execution_count": 12,
   "id": "610639fb",
   "metadata": {},
   "outputs": [],
   "source": [
    "def lost_observations(df):\n",
    "    \"\"\"\n",
    "    Функция получает на вход обработанный датасет. \n",
    "    Выводит на экран процент удаленных записей из исходного датасета.\n",
    "    \n",
    "    \"\"\"    \n",
    "    print(f'{(354369 - df.shape[0]) / 354369:.2%}')"
   ]
  },
  {
   "cell_type": "code",
   "execution_count": 13,
   "id": "805a0588",
   "metadata": {},
   "outputs": [],
   "source": [
    "# преобразование типа данных в datetime\n",
    "data[['date_crawled', 'date_created', 'last_seen']] = data[['date_crawled', 'date_created', 'last_seen']].apply(pd.to_datetime)"
   ]
  },
  {
   "cell_type": "markdown",
   "id": "6c24488d",
   "metadata": {},
   "source": [
    "### Проверка на дубликаты"
   ]
  },
  {
   "cell_type": "code",
   "execution_count": 14,
   "id": "71a925cf",
   "metadata": {},
   "outputs": [
    {
     "data": {
      "text/plain": [
       "4"
      ]
     },
     "execution_count": 14,
     "metadata": {},
     "output_type": "execute_result"
    }
   ],
   "source": [
    "data.duplicated().sum()"
   ]
  },
  {
   "cell_type": "code",
   "execution_count": 15,
   "id": "887c4d61",
   "metadata": {},
   "outputs": [
    {
     "data": {
      "text/html": [
       "<div>\n",
       "<style scoped>\n",
       "    .dataframe tbody tr th:only-of-type {\n",
       "        vertical-align: middle;\n",
       "    }\n",
       "\n",
       "    .dataframe tbody tr th {\n",
       "        vertical-align: top;\n",
       "    }\n",
       "\n",
       "    .dataframe thead th {\n",
       "        text-align: right;\n",
       "    }\n",
       "</style>\n",
       "<table border=\"1\" class=\"dataframe\">\n",
       "  <thead>\n",
       "    <tr style=\"text-align: right;\">\n",
       "      <th></th>\n",
       "      <th>date_crawled</th>\n",
       "      <th>price</th>\n",
       "      <th>vehicle_type</th>\n",
       "      <th>registration_year</th>\n",
       "      <th>gearbox</th>\n",
       "      <th>power</th>\n",
       "      <th>model</th>\n",
       "      <th>kilometer</th>\n",
       "      <th>registration_month</th>\n",
       "      <th>fuel_type</th>\n",
       "      <th>brand</th>\n",
       "      <th>repaired</th>\n",
       "      <th>date_created</th>\n",
       "      <th>number_of_pictures</th>\n",
       "      <th>postal_code</th>\n",
       "      <th>last_seen</th>\n",
       "    </tr>\n",
       "  </thead>\n",
       "  <tbody>\n",
       "    <tr>\n",
       "      <th>88087</th>\n",
       "      <td>2016-03-08 18:42:48</td>\n",
       "      <td>1799</td>\n",
       "      <td>coupe</td>\n",
       "      <td>1999</td>\n",
       "      <td>auto</td>\n",
       "      <td>193</td>\n",
       "      <td>clk</td>\n",
       "      <td>20000</td>\n",
       "      <td>7</td>\n",
       "      <td>petrol</td>\n",
       "      <td>mercedes_benz</td>\n",
       "      <td>no</td>\n",
       "      <td>2016-03-08</td>\n",
       "      <td>0</td>\n",
       "      <td>89518</td>\n",
       "      <td>2016-03-09 09:46:57</td>\n",
       "    </tr>\n",
       "    <tr>\n",
       "      <th>171088</th>\n",
       "      <td>2016-03-08 18:42:48</td>\n",
       "      <td>1799</td>\n",
       "      <td>coupe</td>\n",
       "      <td>1999</td>\n",
       "      <td>auto</td>\n",
       "      <td>193</td>\n",
       "      <td>clk</td>\n",
       "      <td>20000</td>\n",
       "      <td>7</td>\n",
       "      <td>petrol</td>\n",
       "      <td>mercedes_benz</td>\n",
       "      <td>no</td>\n",
       "      <td>2016-03-08</td>\n",
       "      <td>0</td>\n",
       "      <td>89518</td>\n",
       "      <td>2016-03-09 09:46:57</td>\n",
       "    </tr>\n",
       "    <tr>\n",
       "      <th>41529</th>\n",
       "      <td>2016-03-18 18:46:15</td>\n",
       "      <td>1999</td>\n",
       "      <td>wagon</td>\n",
       "      <td>2001</td>\n",
       "      <td>manual</td>\n",
       "      <td>131</td>\n",
       "      <td>passat</td>\n",
       "      <td>150000</td>\n",
       "      <td>7</td>\n",
       "      <td>gasoline</td>\n",
       "      <td>volkswagen</td>\n",
       "      <td>no</td>\n",
       "      <td>2016-03-18</td>\n",
       "      <td>0</td>\n",
       "      <td>36391</td>\n",
       "      <td>2016-03-18 18:46:15</td>\n",
       "    </tr>\n",
       "    <tr>\n",
       "      <th>325651</th>\n",
       "      <td>2016-03-18 18:46:15</td>\n",
       "      <td>1999</td>\n",
       "      <td>wagon</td>\n",
       "      <td>2001</td>\n",
       "      <td>manual</td>\n",
       "      <td>131</td>\n",
       "      <td>passat</td>\n",
       "      <td>150000</td>\n",
       "      <td>7</td>\n",
       "      <td>gasoline</td>\n",
       "      <td>volkswagen</td>\n",
       "      <td>no</td>\n",
       "      <td>2016-03-18</td>\n",
       "      <td>0</td>\n",
       "      <td>36391</td>\n",
       "      <td>2016-03-18 18:46:15</td>\n",
       "    </tr>\n",
       "    <tr>\n",
       "      <th>90964</th>\n",
       "      <td>2016-03-28 00:56:10</td>\n",
       "      <td>1000</td>\n",
       "      <td>small</td>\n",
       "      <td>2002</td>\n",
       "      <td>manual</td>\n",
       "      <td>83</td>\n",
       "      <td>other</td>\n",
       "      <td>150000</td>\n",
       "      <td>1</td>\n",
       "      <td>petrol</td>\n",
       "      <td>suzuki</td>\n",
       "      <td>no</td>\n",
       "      <td>2016-03-28</td>\n",
       "      <td>0</td>\n",
       "      <td>66589</td>\n",
       "      <td>2016-03-28 08:46:21</td>\n",
       "    </tr>\n",
       "    <tr>\n",
       "      <th>231258</th>\n",
       "      <td>2016-03-28 00:56:10</td>\n",
       "      <td>1000</td>\n",
       "      <td>small</td>\n",
       "      <td>2002</td>\n",
       "      <td>manual</td>\n",
       "      <td>83</td>\n",
       "      <td>other</td>\n",
       "      <td>150000</td>\n",
       "      <td>1</td>\n",
       "      <td>petrol</td>\n",
       "      <td>suzuki</td>\n",
       "      <td>no</td>\n",
       "      <td>2016-03-28</td>\n",
       "      <td>0</td>\n",
       "      <td>66589</td>\n",
       "      <td>2016-03-28 08:46:21</td>\n",
       "    </tr>\n",
       "    <tr>\n",
       "      <th>187735</th>\n",
       "      <td>2016-04-03 09:01:15</td>\n",
       "      <td>4699</td>\n",
       "      <td>coupe</td>\n",
       "      <td>2003</td>\n",
       "      <td>auto</td>\n",
       "      <td>218</td>\n",
       "      <td>clk</td>\n",
       "      <td>125000</td>\n",
       "      <td>6</td>\n",
       "      <td>petrol</td>\n",
       "      <td>mercedes_benz</td>\n",
       "      <td>yes</td>\n",
       "      <td>2016-04-03</td>\n",
       "      <td>0</td>\n",
       "      <td>75196</td>\n",
       "      <td>2016-04-07 09:44:54</td>\n",
       "    </tr>\n",
       "    <tr>\n",
       "      <th>258109</th>\n",
       "      <td>2016-04-03 09:01:15</td>\n",
       "      <td>4699</td>\n",
       "      <td>coupe</td>\n",
       "      <td>2003</td>\n",
       "      <td>auto</td>\n",
       "      <td>218</td>\n",
       "      <td>clk</td>\n",
       "      <td>125000</td>\n",
       "      <td>6</td>\n",
       "      <td>petrol</td>\n",
       "      <td>mercedes_benz</td>\n",
       "      <td>yes</td>\n",
       "      <td>2016-04-03</td>\n",
       "      <td>0</td>\n",
       "      <td>75196</td>\n",
       "      <td>2016-04-07 09:44:54</td>\n",
       "    </tr>\n",
       "  </tbody>\n",
       "</table>\n",
       "</div>"
      ],
      "text/plain": [
       "              date_crawled  price vehicle_type  registration_year gearbox  \\\n",
       "88087  2016-03-08 18:42:48   1799        coupe               1999    auto   \n",
       "171088 2016-03-08 18:42:48   1799        coupe               1999    auto   \n",
       "41529  2016-03-18 18:46:15   1999        wagon               2001  manual   \n",
       "325651 2016-03-18 18:46:15   1999        wagon               2001  manual   \n",
       "90964  2016-03-28 00:56:10   1000        small               2002  manual   \n",
       "231258 2016-03-28 00:56:10   1000        small               2002  manual   \n",
       "187735 2016-04-03 09:01:15   4699        coupe               2003    auto   \n",
       "258109 2016-04-03 09:01:15   4699        coupe               2003    auto   \n",
       "\n",
       "        power   model  kilometer  registration_month fuel_type          brand  \\\n",
       "88087     193     clk      20000                   7    petrol  mercedes_benz   \n",
       "171088    193     clk      20000                   7    petrol  mercedes_benz   \n",
       "41529     131  passat     150000                   7  gasoline     volkswagen   \n",
       "325651    131  passat     150000                   7  gasoline     volkswagen   \n",
       "90964      83   other     150000                   1    petrol         suzuki   \n",
       "231258     83   other     150000                   1    petrol         suzuki   \n",
       "187735    218     clk     125000                   6    petrol  mercedes_benz   \n",
       "258109    218     clk     125000                   6    petrol  mercedes_benz   \n",
       "\n",
       "       repaired date_created  number_of_pictures  postal_code  \\\n",
       "88087        no   2016-03-08                   0        89518   \n",
       "171088       no   2016-03-08                   0        89518   \n",
       "41529        no   2016-03-18                   0        36391   \n",
       "325651       no   2016-03-18                   0        36391   \n",
       "90964        no   2016-03-28                   0        66589   \n",
       "231258       no   2016-03-28                   0        66589   \n",
       "187735      yes   2016-04-03                   0        75196   \n",
       "258109      yes   2016-04-03                   0        75196   \n",
       "\n",
       "                 last_seen  \n",
       "88087  2016-03-09 09:46:57  \n",
       "171088 2016-03-09 09:46:57  \n",
       "41529  2016-03-18 18:46:15  \n",
       "325651 2016-03-18 18:46:15  \n",
       "90964  2016-03-28 08:46:21  \n",
       "231258 2016-03-28 08:46:21  \n",
       "187735 2016-04-07 09:44:54  \n",
       "258109 2016-04-07 09:44:54  "
      ]
     },
     "execution_count": 15,
     "metadata": {},
     "output_type": "execute_result"
    }
   ],
   "source": [
    "data[data.duplicated(keep=False)].sort_values('date_crawled')"
   ]
  },
  {
   "cell_type": "code",
   "execution_count": 16,
   "id": "e6552cd6",
   "metadata": {},
   "outputs": [],
   "source": [
    "data = data.drop_duplicates()"
   ]
  },
  {
   "cell_type": "code",
   "execution_count": 17,
   "id": "4d355dfd",
   "metadata": {},
   "outputs": [
    {
     "name": "stdout",
     "output_type": "stream",
     "text": [
      "0.00%\n"
     ]
    }
   ],
   "source": [
    "lost_observations(data)"
   ]
  },
  {
   "cell_type": "markdown",
   "id": "4359bc36",
   "metadata": {},
   "source": [
    "### Удаление бесполезных признаков"
   ]
  },
  {
   "cell_type": "code",
   "execution_count": 18,
   "id": "237b9720",
   "metadata": {},
   "outputs": [
    {
     "data": {
      "text/plain": [
       "min   2016-03-05 14:06:22\n",
       "max   2016-04-07 14:36:58\n",
       "Name: date_crawled, dtype: datetime64[ns]"
      ]
     },
     "execution_count": 18,
     "metadata": {},
     "output_type": "execute_result"
    }
   ],
   "source": [
    "data['date_crawled'].apply(['min', 'max'])"
   ]
  },
  {
   "cell_type": "markdown",
   "id": "4dfdd9ef",
   "metadata": {},
   "source": [
    "`date_crawled` - охватывает период 2016-03-05 по 2016-04-07 (так как период маленький, то влияния на цену нет)"
   ]
  },
  {
   "cell_type": "code",
   "execution_count": 19,
   "id": "5e9b00c3",
   "metadata": {},
   "outputs": [
    {
     "data": {
      "text/plain": [
       "array([0], dtype=int64)"
      ]
     },
     "execution_count": 19,
     "metadata": {},
     "output_type": "execute_result"
    }
   ],
   "source": [
    "data['number_of_pictures'].unique()"
   ]
  },
  {
   "cell_type": "markdown",
   "id": "a3a09e37",
   "metadata": {},
   "source": [
    "`number_of_pictures` - константный признак"
   ]
  },
  {
   "cell_type": "markdown",
   "id": "156bd734",
   "metadata": {},
   "source": [
    "Также признаки `date_created`, `last_seen`, `registration_month`, `postal_code`,  не несут в себе информацию о целевой переменной"
   ]
  },
  {
   "cell_type": "code",
   "execution_count": 20,
   "id": "007eca6a",
   "metadata": {},
   "outputs": [],
   "source": [
    "data = data.drop(\n",
    "    columns=[\n",
    "        \"date_crawled\",\n",
    "        \"number_of_pictures\",\n",
    "        \"date_created\",\n",
    "        \"last_seen\",\n",
    "        \"registration_month\",\n",
    "        \"postal_code\",\n",
    "    ]\n",
    ")"
   ]
  },
  {
   "cell_type": "markdown",
   "id": "22fbece0",
   "metadata": {},
   "source": [
    "### Обзор пропущенных значений"
   ]
  },
  {
   "cell_type": "code",
   "execution_count": 21,
   "id": "65b882ef",
   "metadata": {},
   "outputs": [
    {
     "data": {
      "image/png": "[encoded data removed]",
      "text/plain": [
       "<Figure size 1000x300 with 1 Axes>"
      ]
     },
     "metadata": {},
     "output_type": "display_data"
    }
   ],
   "source": [
    "plt.figure(figsize=(10, 3))\n",
    "data_isna = data.isna().mean().sort_values(ascending=False) * 100\n",
    "data_isna = data_isna[data_isna > 0]\n",
    "ax = sns.barplot(y=data_isna.index, x=data_isna)\n",
    "ax.bar_label(ax.containers[0])\n",
    "ax.set_title(\"Обзор пропущенных значений\")\n",
    "ax.set_ylabel(\"Название признака\")\n",
    "ax.set_xlabel(\"Доля пропущенных значений (%)\");"
   ]
  },
  {
   "cell_type": "markdown",
   "id": "83c04fd0",
   "metadata": {},
   "source": [
    "### Предобработка колонки `\"price\"`"
   ]
  },
  {
   "cell_type": "code",
   "execution_count": 22,
   "id": "3c78dd61",
   "metadata": {},
   "outputs": [
    {
     "name": "stdout",
     "output_type": "stream",
     "text": [
      "Обзор пропущенных значений:\n"
     ]
    },
    {
     "data": {
      "text/html": [
       "<style type=\"text/css\">\n",
       "</style>\n",
       "<table id=\"T_7ab6f\">\n",
       "  <thead>\n",
       "    <tr>\n",
       "      <th class=\"blank level0\" >&nbsp;</th>\n",
       "      <th id=\"T_7ab6f_level0_col0\" class=\"col_heading level0 col0\" >mean</th>\n",
       "      <th id=\"T_7ab6f_level0_col1\" class=\"col_heading level0 col1\" >sum</th>\n",
       "      <th id=\"T_7ab6f_level0_col2\" class=\"col_heading level0 col2\" >count</th>\n",
       "    </tr>\n",
       "  </thead>\n",
       "  <tbody>\n",
       "    <tr>\n",
       "      <th id=\"T_7ab6f_level0_row0\" class=\"row_heading level0 row0\" >price</th>\n",
       "      <td id=\"T_7ab6f_row0_col0\" class=\"data row0 col0\" >0.00%</td>\n",
       "      <td id=\"T_7ab6f_row0_col1\" class=\"data row0 col1\" >0</td>\n",
       "      <td id=\"T_7ab6f_row0_col2\" class=\"data row0 col2\" >354365</td>\n",
       "    </tr>\n",
       "  </tbody>\n",
       "</table>\n"
      ],
      "text/plain": [
       "<pandas.io.formats.style.Styler at 0x1ee9ce1bfd0>"
      ]
     },
     "metadata": {},
     "output_type": "display_data"
    },
    {
     "name": "stdout",
     "output_type": "stream",
     "text": [
      "Описательные статистики:\n"
     ]
    },
    {
     "data": {
      "text/html": [
       "<div>\n",
       "<style scoped>\n",
       "    .dataframe tbody tr th:only-of-type {\n",
       "        vertical-align: middle;\n",
       "    }\n",
       "\n",
       "    .dataframe tbody tr th {\n",
       "        vertical-align: top;\n",
       "    }\n",
       "\n",
       "    .dataframe thead th {\n",
       "        text-align: right;\n",
       "    }\n",
       "</style>\n",
       "<table border=\"1\" class=\"dataframe\">\n",
       "  <thead>\n",
       "    <tr style=\"text-align: right;\">\n",
       "      <th></th>\n",
       "      <th>count</th>\n",
       "      <th>mean</th>\n",
       "      <th>std</th>\n",
       "      <th>min</th>\n",
       "      <th>1%</th>\n",
       "      <th>2%</th>\n",
       "      <th>5%</th>\n",
       "      <th>25%</th>\n",
       "      <th>50%</th>\n",
       "      <th>75%</th>\n",
       "      <th>95%</th>\n",
       "      <th>98%</th>\n",
       "      <th>99%</th>\n",
       "      <th>max</th>\n",
       "    </tr>\n",
       "  </thead>\n",
       "  <tbody>\n",
       "    <tr>\n",
       "      <th>price</th>\n",
       "      <td>354365.00</td>\n",
       "      <td>4416.68</td>\n",
       "      <td>4514.18</td>\n",
       "      <td>0.00</td>\n",
       "      <td>0.00</td>\n",
       "      <td>0.00</td>\n",
       "      <td>200.00</td>\n",
       "      <td>1050.00</td>\n",
       "      <td>2700.00</td>\n",
       "      <td>6400.00</td>\n",
       "      <td>14600.00</td>\n",
       "      <td>17499.00</td>\n",
       "      <td>18800.00</td>\n",
       "      <td>20000.00</td>\n",
       "    </tr>\n",
       "  </tbody>\n",
       "</table>\n",
       "</div>"
      ],
      "text/plain": [
       "          count    mean     std  min   1%   2%     5%     25%     50%     75%  \\\n",
       "price 354365.00 4416.68 4514.18 0.00 0.00 0.00 200.00 1050.00 2700.00 6400.00   \n",
       "\n",
       "           95%      98%      99%      max  \n",
       "price 14600.00 17499.00 18800.00 20000.00  "
      ]
     },
     "metadata": {},
     "output_type": "display_data"
    }
   ],
   "source": [
    "investigate_column(data['price'])"
   ]
  },
  {
   "cell_type": "code",
   "execution_count": 23,
   "id": "6024af4f",
   "metadata": {},
   "outputs": [
    {
     "data": {
      "image/png": "[encoded data removed]",
      "text/plain": [
       "<Figure size 1000x300 with 1 Axes>"
      ]
     },
     "metadata": {},
     "output_type": "display_data"
    }
   ],
   "source": [
    "plt.figure(figsize=(10, 3))\n",
    "sns.histplot(data['price'], bins=80, kde=True)\n",
    "plt.xlabel('Цена (евро)')\n",
    "plt.ylabel('Частота')\n",
    "plt.title('Распределение цены авто')\n",
    "plt.show()"
   ]
  },
  {
   "cell_type": "code",
   "execution_count": 24,
   "id": "fa4e79a5",
   "metadata": {},
   "outputs": [
    {
     "data": {
      "image/png": "[encoded data removed]",
      "text/plain": [
       "<Figure size 1000x300 with 1 Axes>"
      ]
     },
     "metadata": {},
     "output_type": "display_data"
    }
   ],
   "source": [
    "plt.figure(figsize=(10, 3))\n",
    "sns.histplot(data.query(\"price < 100\")['price'], bins=100)\n",
    "plt.xlabel('Цена (евро)')\n",
    "plt.ylabel('Частота')\n",
    "plt.title('Распределение цены авто (до 100 евро)')\n",
    "plt.show()"
   ]
  },
  {
   "cell_type": "markdown",
   "id": "aa2bfe4d",
   "metadata": {},
   "source": [
    "У целевой переменной наблюдается длинный хвост справа. Избавимся от аномально дешевых объектов, цена которых меньше 100 евро (как видно большинство из них имеет нулевое значение)"
   ]
  },
  {
   "cell_type": "code",
   "execution_count": 25,
   "id": "fba440b0",
   "metadata": {},
   "outputs": [],
   "source": [
    "data = data.query(\"price >= 100\")"
   ]
  },
  {
   "cell_type": "code",
   "execution_count": 26,
   "id": "1fb209cf",
   "metadata": {},
   "outputs": [
    {
     "name": "stdout",
     "output_type": "stream",
     "text": [
      "3.76%\n"
     ]
    }
   ],
   "source": [
    "# check\n",
    "lost_observations(data)"
   ]
  },
  {
   "cell_type": "markdown",
   "id": "382b5415",
   "metadata": {},
   "source": [
    "###  Предобработка колонки `\"repaired\"`"
   ]
  },
  {
   "cell_type": "code",
   "execution_count": 27,
   "id": "bcbba692",
   "metadata": {},
   "outputs": [
    {
     "data": {
      "text/html": [
       "<div>\n",
       "<style scoped>\n",
       "    .dataframe tbody tr th:only-of-type {\n",
       "        vertical-align: middle;\n",
       "    }\n",
       "\n",
       "    .dataframe tbody tr th {\n",
       "        vertical-align: top;\n",
       "    }\n",
       "\n",
       "    .dataframe thead th {\n",
       "        text-align: right;\n",
       "    }\n",
       "</style>\n",
       "<table border=\"1\" class=\"dataframe\">\n",
       "  <thead>\n",
       "    <tr style=\"text-align: right;\">\n",
       "      <th></th>\n",
       "      <th>size</th>\n",
       "      <th>normalize_%</th>\n",
       "    </tr>\n",
       "    <tr>\n",
       "      <th>repaired</th>\n",
       "      <th></th>\n",
       "      <th></th>\n",
       "    </tr>\n",
       "  </thead>\n",
       "  <tbody>\n",
       "    <tr>\n",
       "      <th>no</th>\n",
       "      <td>243203</td>\n",
       "      <td>71.31</td>\n",
       "    </tr>\n",
       "    <tr>\n",
       "      <th>NaN</th>\n",
       "      <td>64357</td>\n",
       "      <td>18.87</td>\n",
       "    </tr>\n",
       "    <tr>\n",
       "      <th>yes</th>\n",
       "      <td>33491</td>\n",
       "      <td>9.82</td>\n",
       "    </tr>\n",
       "  </tbody>\n",
       "</table>\n",
       "</div>"
      ],
      "text/plain": [
       "            size  normalize_%\n",
       "repaired                     \n",
       "no        243203        71.31\n",
       "NaN        64357        18.87\n",
       "yes        33491         9.82"
      ]
     },
     "execution_count": 27,
     "metadata": {},
     "output_type": "execute_result"
    }
   ],
   "source": [
    "custom_value_counts(data['repaired'])"
   ]
  },
  {
   "cell_type": "markdown",
   "id": "d373408c",
   "metadata": {},
   "source": [
    "Выделим пропуски в отдельную категорию `not_recorded`"
   ]
  },
  {
   "cell_type": "code",
   "execution_count": 28,
   "id": "bed0f689",
   "metadata": {},
   "outputs": [],
   "source": [
    "data['repaired'] = data['repaired'].fillna('not_recorded')"
   ]
  },
  {
   "cell_type": "markdown",
   "id": "d15cbd68",
   "metadata": {},
   "source": [
    "###  Предобработка колонки `\"gearbox\"`"
   ]
  },
  {
   "cell_type": "code",
   "execution_count": 29,
   "id": "36549904",
   "metadata": {},
   "outputs": [
    {
     "data": {
      "text/html": [
       "<div>\n",
       "<style scoped>\n",
       "    .dataframe tbody tr th:only-of-type {\n",
       "        vertical-align: middle;\n",
       "    }\n",
       "\n",
       "    .dataframe tbody tr th {\n",
       "        vertical-align: top;\n",
       "    }\n",
       "\n",
       "    .dataframe thead th {\n",
       "        text-align: right;\n",
       "    }\n",
       "</style>\n",
       "<table border=\"1\" class=\"dataframe\">\n",
       "  <thead>\n",
       "    <tr style=\"text-align: right;\">\n",
       "      <th></th>\n",
       "      <th>size</th>\n",
       "      <th>normalize_%</th>\n",
       "    </tr>\n",
       "    <tr>\n",
       "      <th>gearbox</th>\n",
       "      <th></th>\n",
       "      <th></th>\n",
       "    </tr>\n",
       "  </thead>\n",
       "  <tbody>\n",
       "    <tr>\n",
       "      <th>manual</th>\n",
       "      <td>260072</td>\n",
       "      <td>76.26</td>\n",
       "    </tr>\n",
       "    <tr>\n",
       "      <th>auto</th>\n",
       "      <td>64665</td>\n",
       "      <td>18.96</td>\n",
       "    </tr>\n",
       "    <tr>\n",
       "      <th>NaN</th>\n",
       "      <td>16314</td>\n",
       "      <td>4.78</td>\n",
       "    </tr>\n",
       "  </tbody>\n",
       "</table>\n",
       "</div>"
      ],
      "text/plain": [
       "           size  normalize_%\n",
       "gearbox                     \n",
       "manual   260072        76.26\n",
       "auto      64665        18.96\n",
       "NaN       16314         4.78"
      ]
     },
     "execution_count": 29,
     "metadata": {},
     "output_type": "execute_result"
    }
   ],
   "source": [
    "custom_value_counts(data['gearbox'])"
   ]
  },
  {
   "cell_type": "markdown",
   "id": "1eb01918",
   "metadata": {},
   "source": [
    "Выделим пропуски в отдельную категорию `not_recorded`"
   ]
  },
  {
   "cell_type": "code",
   "execution_count": 30,
   "id": "75c0eead",
   "metadata": {},
   "outputs": [],
   "source": [
    "data['gearbox'] = data['gearbox'].fillna('not_recorded')"
   ]
  },
  {
   "cell_type": "markdown",
   "id": "452c0490",
   "metadata": {},
   "source": [
    "###  Предобработка колонки `\"vehicle_type\"`"
   ]
  },
  {
   "cell_type": "code",
   "execution_count": 31,
   "id": "73774e35",
   "metadata": {},
   "outputs": [
    {
     "data": {
      "text/html": [
       "<div>\n",
       "<style scoped>\n",
       "    .dataframe tbody tr th:only-of-type {\n",
       "        vertical-align: middle;\n",
       "    }\n",
       "\n",
       "    .dataframe tbody tr th {\n",
       "        vertical-align: top;\n",
       "    }\n",
       "\n",
       "    .dataframe thead th {\n",
       "        text-align: right;\n",
       "    }\n",
       "</style>\n",
       "<table border=\"1\" class=\"dataframe\">\n",
       "  <thead>\n",
       "    <tr style=\"text-align: right;\">\n",
       "      <th></th>\n",
       "      <th>size</th>\n",
       "      <th>normalize_%</th>\n",
       "    </tr>\n",
       "    <tr>\n",
       "      <th>vehicle_type</th>\n",
       "      <th></th>\n",
       "      <th></th>\n",
       "    </tr>\n",
       "  </thead>\n",
       "  <tbody>\n",
       "    <tr>\n",
       "      <th>sedan</th>\n",
       "      <td>89087</td>\n",
       "      <td>26.12</td>\n",
       "    </tr>\n",
       "    <tr>\n",
       "      <th>small</th>\n",
       "      <td>77443</td>\n",
       "      <td>22.71</td>\n",
       "    </tr>\n",
       "    <tr>\n",
       "      <th>wagon</th>\n",
       "      <td>63464</td>\n",
       "      <td>18.61</td>\n",
       "    </tr>\n",
       "    <tr>\n",
       "      <th>NaN</th>\n",
       "      <td>32612</td>\n",
       "      <td>9.56</td>\n",
       "    </tr>\n",
       "    <tr>\n",
       "      <th>bus</th>\n",
       "      <td>28265</td>\n",
       "      <td>8.29</td>\n",
       "    </tr>\n",
       "    <tr>\n",
       "      <th>convertible</th>\n",
       "      <td>19817</td>\n",
       "      <td>5.81</td>\n",
       "    </tr>\n",
       "    <tr>\n",
       "      <th>coupe</th>\n",
       "      <td>15553</td>\n",
       "      <td>4.56</td>\n",
       "    </tr>\n",
       "    <tr>\n",
       "      <th>suv</th>\n",
       "      <td>11762</td>\n",
       "      <td>3.45</td>\n",
       "    </tr>\n",
       "    <tr>\n",
       "      <th>other</th>\n",
       "      <td>3048</td>\n",
       "      <td>0.89</td>\n",
       "    </tr>\n",
       "  </tbody>\n",
       "</table>\n",
       "</div>"
      ],
      "text/plain": [
       "               size  normalize_%\n",
       "vehicle_type                    \n",
       "sedan         89087        26.12\n",
       "small         77443        22.71\n",
       "wagon         63464        18.61\n",
       "NaN           32612         9.56\n",
       "bus           28265         8.29\n",
       "convertible   19817         5.81\n",
       "coupe         15553         4.56\n",
       "suv           11762         3.45\n",
       "other          3048         0.89"
      ]
     },
     "execution_count": 31,
     "metadata": {},
     "output_type": "execute_result"
    }
   ],
   "source": [
    "custom_value_counts(data['vehicle_type'])"
   ]
  },
  {
   "cell_type": "markdown",
   "id": "e6737323",
   "metadata": {},
   "source": [
    "Выделим пропуски в отдельную категорию `not_recorded`"
   ]
  },
  {
   "cell_type": "code",
   "execution_count": 32,
   "id": "6e44fdad",
   "metadata": {},
   "outputs": [],
   "source": [
    "data['vehicle_type'] = data['vehicle_type'].fillna('not_recorded')"
   ]
  },
  {
   "cell_type": "markdown",
   "id": "15f62e34",
   "metadata": {},
   "source": [
    "###  Предобработка колонки `\"model\"`"
   ]
  },
  {
   "cell_type": "code",
   "execution_count": 33,
   "id": "7f57c085",
   "metadata": {},
   "outputs": [
    {
     "data": {
      "text/plain": [
       "model\n",
       "golf                  28086\n",
       "other                 23499\n",
       "3er                   19074\n",
       "NaN                   17033\n",
       "polo                  12511\n",
       "corsa                 12039\n",
       "astra                 10406\n",
       "passat                 9792\n",
       "a4                     9599\n",
       "c_klasse               8158\n",
       "5er                    7614\n",
       "e_klasse               6594\n",
       "a3                     6009\n",
       "focus                  5724\n",
       "fiesta                 5586\n",
       "a6                     5348\n",
       "twingo                 4758\n",
       "2_reihe                4749\n",
       "transporter            4648\n",
       "fortwo                 4280\n",
       "a_klasse               4113\n",
       "vectra                 4064\n",
       "1er                    3492\n",
       "mondeo                 3456\n",
       "clio                   3436\n",
       "touran                 3419\n",
       "3_reihe                3403\n",
       "punto                  3221\n",
       "zafira                 2979\n",
       "megane                 2783\n",
       "ibiza                  2627\n",
       "ka                     2573\n",
       "lupo                   2528\n",
       "octavia                2089\n",
       "fabia                  2059\n",
       "cooper                 1931\n",
       "clk                    1772\n",
       "micra                  1701\n",
       "x_reihe                1565\n",
       "caddy                  1545\n",
       "80                     1496\n",
       "sharan                 1446\n",
       "scenic                 1410\n",
       "omega                  1321\n",
       "laguna                 1302\n",
       "civic                  1290\n",
       "leon                   1282\n",
       "1_reihe                1255\n",
       "6_reihe                1255\n",
       "i_reihe                1221\n",
       "slk                    1212\n",
       "galaxy                 1120\n",
       "tt                     1063\n",
       "meriva                 1033\n",
       "yaris                  1027\n",
       "mx_reihe                990\n",
       "7er                     976\n",
       "kangoo                  940\n",
       "m_klasse                933\n",
       "500                     904\n",
       "one                     885\n",
       "b_klasse                869\n",
       "arosa                   868\n",
       "vito                    856\n",
       "s_klasse                855\n",
       "bora                    851\n",
       "colt                    839\n",
       "escort                  821\n",
       "berlingo                808\n",
       "beetle                  808\n",
       "sprinter                754\n",
       "tigra                   746\n",
       "transit                 742\n",
       "v40                     740\n",
       "fox                     734\n",
       "z_reihe                 708\n",
       "c_max                   680\n",
       "swift                   680\n",
       "corolla                 675\n",
       "panda                   664\n",
       "tiguan                  656\n",
       "seicento                637\n",
       "insignia                632\n",
       "v70                     617\n",
       "4_reihe                 616\n",
       "156                     594\n",
       "primera                 593\n",
       "a1                      592\n",
       "scirocco                587\n",
       "stilo                   579\n",
       "touareg                 572\n",
       "espace                  571\n",
       "almera                  561\n",
       "147                     561\n",
       "avensis                 560\n",
       "grand                   554\n",
       "a5                      534\n",
       "qashqai                 528\n",
       "a8                      514\n",
       "eos                     513\n",
       "c3                      499\n",
       "signum                  482\n",
       "c5                      475\n",
       "matiz                   440\n",
       "c4                      439\n",
       "5_reihe                 435\n",
       "s_max                   431\n",
       "agila                   429\n",
       "aygo                    425\n",
       "ducato                  418\n",
       "getz                    413\n",
       "kaefer                  412\n",
       "combo                   402\n",
       "carisma                 395\n",
       "100                     393\n",
       "c2                      388\n",
       "c1                      385\n",
       "sl                      383\n",
       "forfour                 379\n",
       "cordoba                 378\n",
       "a2                      367\n",
       "altea                   365\n",
       "superb                  362\n",
       "picanto                 362\n",
       "rio                     354\n",
       "cuore                   354\n",
       "alhambra                352\n",
       "601                     349\n",
       "jetta                   347\n",
       "rav                     346\n",
       "up                      346\n",
       "accord                  341\n",
       "sorento                 337\n",
       "cr_reihe                333\n",
       "kadett                  322\n",
       "toledo                  322\n",
       "doblo                   321\n",
       "logan                   319\n",
       "modus                   316\n",
       "kuga                    315\n",
       "santa                   309\n",
       "verso                   308\n",
       "voyager                 304\n",
       "bravo                   303\n",
       "vivaro                  299\n",
       "jazz                    299\n",
       "fusion                  298\n",
       "ptcruiser               294\n",
       "sandero                 292\n",
       "roomster                273\n",
       "carnival                269\n",
       "xc_reihe                266\n",
       "viano                   256\n",
       "v50                     252\n",
       "ceed                    249\n",
       "sportage                246\n",
       "galant                  241\n",
       "auris                   233\n",
       "tucson                  230\n",
       "cayenne                 229\n",
       "cl                      220\n",
       "boxster                 217\n",
       "lancer                  215\n",
       "impreza                 215\n",
       "jimny                   212\n",
       "freelander              212\n",
       "phaeton                 210\n",
       "159                     207\n",
       "x_trail                 204\n",
       "pajero                  204\n",
       "q7                      202\n",
       "duster                  202\n",
       "850                     202\n",
       "clubman                 200\n",
       "ypsilon                 199\n",
       "c_reihe                 192\n",
       "calibra                 188\n",
       "spider                  187\n",
       "roadster                180\n",
       "yeti                    174\n",
       "captiva                 167\n",
       "x_type                  166\n",
       "mustang                 164\n",
       "cherokee                160\n",
       "legacy                  153\n",
       "s60                     145\n",
       "v_klasse                145\n",
       "6er                     143\n",
       "300c                    139\n",
       "sirion                  137\n",
       "rx_reihe                136\n",
       "cc                      133\n",
       "justy                   132\n",
       "note                    129\n",
       "forester                126\n",
       "niva                    126\n",
       "s_type                  123\n",
       "spark                   122\n",
       "outlander               120\n",
       "m_reihe                 118\n",
       "aveo                    117\n",
       "r19                     113\n",
       "900                     112\n",
       "antara                  106\n",
       "juke                    101\n",
       "exeo                    100\n",
       "wrangler                 99\n",
       "q5                       96\n",
       "kalos                    95\n",
       "90                       93\n",
       "g_klasse                 91\n",
       "citigo                   91\n",
       "navara                   90\n",
       "lanos                    86\n",
       "mii                      81\n",
       "discovery                78\n",
       "range_rover              75\n",
       "defender                 74\n",
       "911                      67\n",
       "crossfire                64\n",
       "cx_reihe                 63\n",
       "glk                      63\n",
       "nubira                   60\n",
       "range_rover_sport        54\n",
       "move                     50\n",
       "lybra                    50\n",
       "croma                    45\n",
       "145                      44\n",
       "v60                      42\n",
       "terios                   35\n",
       "lodgy                    35\n",
       "delta                    34\n",
       "9000                     28\n",
       "charade                  27\n",
       "b_max                    26\n",
       "musa                     23\n",
       "materia                  18\n",
       "200                      17\n",
       "kappa                    14\n",
       "q3                       13\n",
       "amarok                   13\n",
       "gl                       12\n",
       "samara                   11\n",
       "elefantino               10\n",
       "kalina                    9\n",
       "i3                        8\n",
       "serie_2                   8\n",
       "rangerover                4\n",
       "serie_3                   3\n",
       "range_rover_evoque        2\n",
       "serie_1                   1\n",
       "Name: count, dtype: int64"
      ]
     },
     "execution_count": 33,
     "metadata": {},
     "output_type": "execute_result"
    }
   ],
   "source": [
    "data['model'].value_counts(dropna=False)"
   ]
  },
  {
   "cell_type": "markdown",
   "id": "83e32187",
   "metadata": {},
   "source": [
    "Помним, что до разбиения на обучающую и тестовую выборки мы можем применять только те преобразования, которые не предполагают вычисление статистик. НО сейчас мы укрупним редкие категории до разбиения на обучающую и тестовую выборки. В бизнес-подходе вы так можете делать только в том случае, если у вас есть априорные знания, которым вы доверяете.\n",
    "\n",
    "Выделим пропуски в отдельную категорию `not_recorded` и объединим с `other` все категории, размер которых меньше 100 объектов"
   ]
  },
  {
   "cell_type": "code",
   "execution_count": 34,
   "id": "ffbf23fb",
   "metadata": {},
   "outputs": [],
   "source": [
    "data['model'] = data['model'].fillna('not_recorded')"
   ]
  },
  {
   "cell_type": "code",
   "execution_count": 35,
   "id": "1ee6bbad",
   "metadata": {},
   "outputs": [],
   "source": [
    "abs_freq = data[\"model\"].value_counts(dropna=False)\n",
    "data['model'] = np.where(\n",
    "    data['model'].isin(abs_freq[abs_freq >= 100].index.tolist()), data['model'], \"other\"\n",
    ")"
   ]
  },
  {
   "cell_type": "markdown",
   "id": "6ea46ff3",
   "metadata": {},
   "source": [
    "###  Предобработка колонки `\"fuel_type\"`"
   ]
  },
  {
   "cell_type": "code",
   "execution_count": 36,
   "id": "690c34e7",
   "metadata": {},
   "outputs": [
    {
     "data": {
      "text/html": [
       "<div>\n",
       "<style scoped>\n",
       "    .dataframe tbody tr th:only-of-type {\n",
       "        vertical-align: middle;\n",
       "    }\n",
       "\n",
       "    .dataframe tbody tr th {\n",
       "        vertical-align: top;\n",
       "    }\n",
       "\n",
       "    .dataframe thead th {\n",
       "        text-align: right;\n",
       "    }\n",
       "</style>\n",
       "<table border=\"1\" class=\"dataframe\">\n",
       "  <thead>\n",
       "    <tr style=\"text-align: right;\">\n",
       "      <th></th>\n",
       "      <th>size</th>\n",
       "      <th>normalize_%</th>\n",
       "    </tr>\n",
       "    <tr>\n",
       "      <th>fuel_type</th>\n",
       "      <th></th>\n",
       "      <th></th>\n",
       "    </tr>\n",
       "  </thead>\n",
       "  <tbody>\n",
       "    <tr>\n",
       "      <th>petrol</th>\n",
       "      <td>209595</td>\n",
       "      <td>61.46</td>\n",
       "    </tr>\n",
       "    <tr>\n",
       "      <th>gasoline</th>\n",
       "      <td>96936</td>\n",
       "      <td>28.42</td>\n",
       "    </tr>\n",
       "    <tr>\n",
       "      <th>NaN</th>\n",
       "      <td>28349</td>\n",
       "      <td>8.31</td>\n",
       "    </tr>\n",
       "    <tr>\n",
       "      <th>lpg</th>\n",
       "      <td>5155</td>\n",
       "      <td>1.51</td>\n",
       "    </tr>\n",
       "    <tr>\n",
       "      <th>cng</th>\n",
       "      <td>549</td>\n",
       "      <td>0.16</td>\n",
       "    </tr>\n",
       "    <tr>\n",
       "      <th>hybrid</th>\n",
       "      <td>226</td>\n",
       "      <td>0.07</td>\n",
       "    </tr>\n",
       "    <tr>\n",
       "      <th>other</th>\n",
       "      <td>154</td>\n",
       "      <td>0.05</td>\n",
       "    </tr>\n",
       "    <tr>\n",
       "      <th>electric</th>\n",
       "      <td>87</td>\n",
       "      <td>0.03</td>\n",
       "    </tr>\n",
       "  </tbody>\n",
       "</table>\n",
       "</div>"
      ],
      "text/plain": [
       "             size  normalize_%\n",
       "fuel_type                     \n",
       "petrol     209595        61.46\n",
       "gasoline    96936        28.42\n",
       "NaN         28349         8.31\n",
       "lpg          5155         1.51\n",
       "cng           549         0.16\n",
       "hybrid        226         0.07\n",
       "other         154         0.05\n",
       "electric       87         0.03"
      ]
     },
     "execution_count": 36,
     "metadata": {},
     "output_type": "execute_result"
    }
   ],
   "source": [
    "custom_value_counts(data['fuel_type'])"
   ]
  },
  {
   "cell_type": "markdown",
   "id": "dacfd9cf",
   "metadata": {},
   "source": [
    "Выделим пропуски в отдельную категорию `not_recorded` и объединим с `other` все категории, размер которых меньше 1% от общей выборки"
   ]
  },
  {
   "cell_type": "code",
   "execution_count": 37,
   "id": "7dc0bc75",
   "metadata": {},
   "outputs": [],
   "source": [
    "data['fuel_type'] = data['fuel_type'].fillna('not_recorded')"
   ]
  },
  {
   "cell_type": "code",
   "execution_count": 38,
   "id": "c438b1bb",
   "metadata": {},
   "outputs": [],
   "source": [
    "norm_freq = data[\"fuel_type\"].value_counts(dropna=False, normalize=True)\n",
    "data['fuel_type'] = np.where(\n",
    "    data['fuel_type'].isin(norm_freq[norm_freq >= 0.01].index.tolist()), data['fuel_type'], \"other\"\n",
    ")"
   ]
  },
  {
   "cell_type": "markdown",
   "id": "fafd1a6c",
   "metadata": {},
   "source": [
    "###  Предобработка колонки `\"brand\"`"
   ]
  },
  {
   "cell_type": "code",
   "execution_count": 39,
   "id": "4e68af11",
   "metadata": {},
   "outputs": [
    {
     "data": {
      "text/html": [
       "<div>\n",
       "<style scoped>\n",
       "    .dataframe tbody tr th:only-of-type {\n",
       "        vertical-align: middle;\n",
       "    }\n",
       "\n",
       "    .dataframe tbody tr th {\n",
       "        vertical-align: top;\n",
       "    }\n",
       "\n",
       "    .dataframe thead th {\n",
       "        text-align: right;\n",
       "    }\n",
       "</style>\n",
       "<table border=\"1\" class=\"dataframe\">\n",
       "  <thead>\n",
       "    <tr style=\"text-align: right;\">\n",
       "      <th></th>\n",
       "      <th>size</th>\n",
       "      <th>normalize_%</th>\n",
       "    </tr>\n",
       "    <tr>\n",
       "      <th>brand</th>\n",
       "      <th></th>\n",
       "      <th></th>\n",
       "    </tr>\n",
       "  </thead>\n",
       "  <tbody>\n",
       "    <tr>\n",
       "      <th>volkswagen</th>\n",
       "      <td>73932</td>\n",
       "      <td>21.68</td>\n",
       "    </tr>\n",
       "    <tr>\n",
       "      <th>opel</th>\n",
       "      <td>38178</td>\n",
       "      <td>11.19</td>\n",
       "    </tr>\n",
       "    <tr>\n",
       "      <th>bmw</th>\n",
       "      <td>35556</td>\n",
       "      <td>10.43</td>\n",
       "    </tr>\n",
       "    <tr>\n",
       "      <th>mercedes_benz</th>\n",
       "      <td>31195</td>\n",
       "      <td>9.15</td>\n",
       "    </tr>\n",
       "    <tr>\n",
       "      <th>audi</th>\n",
       "      <td>28415</td>\n",
       "      <td>8.33</td>\n",
       "    </tr>\n",
       "    <tr>\n",
       "      <th>ford</th>\n",
       "      <td>24207</td>\n",
       "      <td>7.10</td>\n",
       "    </tr>\n",
       "    <tr>\n",
       "      <th>renault</th>\n",
       "      <td>17238</td>\n",
       "      <td>5.05</td>\n",
       "    </tr>\n",
       "    <tr>\n",
       "      <th>peugeot</th>\n",
       "      <td>10706</td>\n",
       "      <td>3.14</td>\n",
       "    </tr>\n",
       "    <tr>\n",
       "      <th>fiat</th>\n",
       "      <td>9262</td>\n",
       "      <td>2.72</td>\n",
       "    </tr>\n",
       "    <tr>\n",
       "      <th>seat</th>\n",
       "      <td>6682</td>\n",
       "      <td>1.96</td>\n",
       "    </tr>\n",
       "    <tr>\n",
       "      <th>mazda</th>\n",
       "      <td>5439</td>\n",
       "      <td>1.59</td>\n",
       "    </tr>\n",
       "    <tr>\n",
       "      <th>skoda</th>\n",
       "      <td>5422</td>\n",
       "      <td>1.59</td>\n",
       "    </tr>\n",
       "    <tr>\n",
       "      <th>smart</th>\n",
       "      <td>5149</td>\n",
       "      <td>1.51</td>\n",
       "    </tr>\n",
       "    <tr>\n",
       "      <th>citroen</th>\n",
       "      <td>4984</td>\n",
       "      <td>1.46</td>\n",
       "    </tr>\n",
       "    <tr>\n",
       "      <th>nissan</th>\n",
       "      <td>4776</td>\n",
       "      <td>1.40</td>\n",
       "    </tr>\n",
       "    <tr>\n",
       "      <th>toyota</th>\n",
       "      <td>4525</td>\n",
       "      <td>1.33</td>\n",
       "    </tr>\n",
       "    <tr>\n",
       "      <th>hyundai</th>\n",
       "      <td>3517</td>\n",
       "      <td>1.03</td>\n",
       "    </tr>\n",
       "    <tr>\n",
       "      <th>mini</th>\n",
       "      <td>3159</td>\n",
       "      <td>0.93</td>\n",
       "    </tr>\n",
       "    <tr>\n",
       "      <th>volvo</th>\n",
       "      <td>3106</td>\n",
       "      <td>0.91</td>\n",
       "    </tr>\n",
       "    <tr>\n",
       "      <th>mitsubishi</th>\n",
       "      <td>2907</td>\n",
       "      <td>0.85</td>\n",
       "    </tr>\n",
       "    <tr>\n",
       "      <th>honda</th>\n",
       "      <td>2702</td>\n",
       "      <td>0.79</td>\n",
       "    </tr>\n",
       "    <tr>\n",
       "      <th>sonstige_autos</th>\n",
       "      <td>2700</td>\n",
       "      <td>0.79</td>\n",
       "    </tr>\n",
       "    <tr>\n",
       "      <th>kia</th>\n",
       "      <td>2397</td>\n",
       "      <td>0.70</td>\n",
       "    </tr>\n",
       "    <tr>\n",
       "      <th>suzuki</th>\n",
       "      <td>2256</td>\n",
       "      <td>0.66</td>\n",
       "    </tr>\n",
       "    <tr>\n",
       "      <th>alfa_romeo</th>\n",
       "      <td>2211</td>\n",
       "      <td>0.65</td>\n",
       "    </tr>\n",
       "    <tr>\n",
       "      <th>chevrolet</th>\n",
       "      <td>1697</td>\n",
       "      <td>0.50</td>\n",
       "    </tr>\n",
       "    <tr>\n",
       "      <th>chrysler</th>\n",
       "      <td>1354</td>\n",
       "      <td>0.40</td>\n",
       "    </tr>\n",
       "    <tr>\n",
       "      <th>dacia</th>\n",
       "      <td>888</td>\n",
       "      <td>0.26</td>\n",
       "    </tr>\n",
       "    <tr>\n",
       "      <th>daihatsu</th>\n",
       "      <td>761</td>\n",
       "      <td>0.22</td>\n",
       "    </tr>\n",
       "    <tr>\n",
       "      <th>subaru</th>\n",
       "      <td>722</td>\n",
       "      <td>0.21</td>\n",
       "    </tr>\n",
       "    <tr>\n",
       "      <th>porsche</th>\n",
       "      <td>705</td>\n",
       "      <td>0.21</td>\n",
       "    </tr>\n",
       "    <tr>\n",
       "      <th>jeep</th>\n",
       "      <td>652</td>\n",
       "      <td>0.19</td>\n",
       "    </tr>\n",
       "    <tr>\n",
       "      <th>land_rover</th>\n",
       "      <td>533</td>\n",
       "      <td>0.16</td>\n",
       "    </tr>\n",
       "    <tr>\n",
       "      <th>daewoo</th>\n",
       "      <td>528</td>\n",
       "      <td>0.15</td>\n",
       "    </tr>\n",
       "    <tr>\n",
       "      <th>saab</th>\n",
       "      <td>512</td>\n",
       "      <td>0.15</td>\n",
       "    </tr>\n",
       "    <tr>\n",
       "      <th>jaguar</th>\n",
       "      <td>486</td>\n",
       "      <td>0.14</td>\n",
       "    </tr>\n",
       "    <tr>\n",
       "      <th>trabant</th>\n",
       "      <td>475</td>\n",
       "      <td>0.14</td>\n",
       "    </tr>\n",
       "    <tr>\n",
       "      <th>rover</th>\n",
       "      <td>456</td>\n",
       "      <td>0.13</td>\n",
       "    </tr>\n",
       "    <tr>\n",
       "      <th>lancia</th>\n",
       "      <td>449</td>\n",
       "      <td>0.13</td>\n",
       "    </tr>\n",
       "    <tr>\n",
       "      <th>lada</th>\n",
       "      <td>212</td>\n",
       "      <td>0.06</td>\n",
       "    </tr>\n",
       "  </tbody>\n",
       "</table>\n",
       "</div>"
      ],
      "text/plain": [
       "                 size  normalize_%\n",
       "brand                             \n",
       "volkswagen      73932        21.68\n",
       "opel            38178        11.19\n",
       "bmw             35556        10.43\n",
       "mercedes_benz   31195         9.15\n",
       "audi            28415         8.33\n",
       "ford            24207         7.10\n",
       "renault         17238         5.05\n",
       "peugeot         10706         3.14\n",
       "fiat             9262         2.72\n",
       "seat             6682         1.96\n",
       "mazda            5439         1.59\n",
       "skoda            5422         1.59\n",
       "smart            5149         1.51\n",
       "citroen          4984         1.46\n",
       "nissan           4776         1.40\n",
       "toyota           4525         1.33\n",
       "hyundai          3517         1.03\n",
       "mini             3159         0.93\n",
       "volvo            3106         0.91\n",
       "mitsubishi       2907         0.85\n",
       "honda            2702         0.79\n",
       "sonstige_autos   2700         0.79\n",
       "kia              2397         0.70\n",
       "suzuki           2256         0.66\n",
       "alfa_romeo       2211         0.65\n",
       "chevrolet        1697         0.50\n",
       "chrysler         1354         0.40\n",
       "dacia             888         0.26\n",
       "daihatsu          761         0.22\n",
       "subaru            722         0.21\n",
       "porsche           705         0.21\n",
       "jeep              652         0.19\n",
       "land_rover        533         0.16\n",
       "daewoo            528         0.15\n",
       "saab              512         0.15\n",
       "jaguar            486         0.14\n",
       "trabant           475         0.14\n",
       "rover             456         0.13\n",
       "lancia            449         0.13\n",
       "lada              212         0.06"
      ]
     },
     "execution_count": 39,
     "metadata": {},
     "output_type": "execute_result"
    }
   ],
   "source": [
    "custom_value_counts(data['brand'])"
   ]
  },
  {
   "cell_type": "markdown",
   "id": "d24f0727",
   "metadata": {},
   "source": [
    "Думаю что укрупнять категории не нужно, так как их много и большая их чать равномерно распределена"
   ]
  },
  {
   "cell_type": "markdown",
   "id": "2600c8d9",
   "metadata": {},
   "source": [
    "###  Предобработка колонки `\"kilometer\"`"
   ]
  },
  {
   "cell_type": "code",
   "execution_count": 40,
   "id": "6546a48a",
   "metadata": {},
   "outputs": [
    {
     "name": "stdout",
     "output_type": "stream",
     "text": [
      "Обзор пропущенных значений:\n"
     ]
    },
    {
     "data": {
      "text/html": [
       "<style type=\"text/css\">\n",
       "</style>\n",
       "<table id=\"T_13440\">\n",
       "  <thead>\n",
       "    <tr>\n",
       "      <th class=\"blank level0\" >&nbsp;</th>\n",
       "      <th id=\"T_13440_level0_col0\" class=\"col_heading level0 col0\" >mean</th>\n",
       "      <th id=\"T_13440_level0_col1\" class=\"col_heading level0 col1\" >sum</th>\n",
       "      <th id=\"T_13440_level0_col2\" class=\"col_heading level0 col2\" >count</th>\n",
       "    </tr>\n",
       "  </thead>\n",
       "  <tbody>\n",
       "    <tr>\n",
       "      <th id=\"T_13440_level0_row0\" class=\"row_heading level0 row0\" >kilometer</th>\n",
       "      <td id=\"T_13440_row0_col0\" class=\"data row0 col0\" >0.00%</td>\n",
       "      <td id=\"T_13440_row0_col1\" class=\"data row0 col1\" >0</td>\n",
       "      <td id=\"T_13440_row0_col2\" class=\"data row0 col2\" >341051</td>\n",
       "    </tr>\n",
       "  </tbody>\n",
       "</table>\n"
      ],
      "text/plain": [
       "<pandas.io.formats.style.Styler at 0x1ee9e1261d0>"
      ]
     },
     "metadata": {},
     "output_type": "display_data"
    },
    {
     "name": "stdout",
     "output_type": "stream",
     "text": [
      "Описательные статистики:\n"
     ]
    },
    {
     "data": {
      "text/html": [
       "<div>\n",
       "<style scoped>\n",
       "    .dataframe tbody tr th:only-of-type {\n",
       "        vertical-align: middle;\n",
       "    }\n",
       "\n",
       "    .dataframe tbody tr th {\n",
       "        vertical-align: top;\n",
       "    }\n",
       "\n",
       "    .dataframe thead th {\n",
       "        text-align: right;\n",
       "    }\n",
       "</style>\n",
       "<table border=\"1\" class=\"dataframe\">\n",
       "  <thead>\n",
       "    <tr style=\"text-align: right;\">\n",
       "      <th></th>\n",
       "      <th>count</th>\n",
       "      <th>mean</th>\n",
       "      <th>std</th>\n",
       "      <th>min</th>\n",
       "      <th>1%</th>\n",
       "      <th>2%</th>\n",
       "      <th>5%</th>\n",
       "      <th>25%</th>\n",
       "      <th>50%</th>\n",
       "      <th>75%</th>\n",
       "      <th>95%</th>\n",
       "      <th>98%</th>\n",
       "      <th>99%</th>\n",
       "      <th>max</th>\n",
       "    </tr>\n",
       "  </thead>\n",
       "  <tbody>\n",
       "    <tr>\n",
       "      <th>kilometer</th>\n",
       "      <td>341051.00</td>\n",
       "      <td>128497.97</td>\n",
       "      <td>37243.52</td>\n",
       "      <td>5000.00</td>\n",
       "      <td>5000.00</td>\n",
       "      <td>20000.00</td>\n",
       "      <td>40000.00</td>\n",
       "      <td>125000.00</td>\n",
       "      <td>150000.00</td>\n",
       "      <td>150000.00</td>\n",
       "      <td>150000.00</td>\n",
       "      <td>150000.00</td>\n",
       "      <td>150000.00</td>\n",
       "      <td>150000.00</td>\n",
       "    </tr>\n",
       "  </tbody>\n",
       "</table>\n",
       "</div>"
      ],
      "text/plain": [
       "              count      mean      std     min      1%       2%       5%  \\\n",
       "kilometer 341051.00 128497.97 37243.52 5000.00 5000.00 20000.00 40000.00   \n",
       "\n",
       "                25%       50%       75%       95%       98%       99%  \\\n",
       "kilometer 125000.00 150000.00 150000.00 150000.00 150000.00 150000.00   \n",
       "\n",
       "                max  \n",
       "kilometer 150000.00  "
      ]
     },
     "metadata": {},
     "output_type": "display_data"
    }
   ],
   "source": [
    "investigate_column(data['kilometer'])"
   ]
  },
  {
   "cell_type": "code",
   "execution_count": 41,
   "id": "f91b3fc7",
   "metadata": {},
   "outputs": [
    {
     "data": {
      "text/html": [
       "<div>\n",
       "<style scoped>\n",
       "    .dataframe tbody tr th:only-of-type {\n",
       "        vertical-align: middle;\n",
       "    }\n",
       "\n",
       "    .dataframe tbody tr th {\n",
       "        vertical-align: top;\n",
       "    }\n",
       "\n",
       "    .dataframe thead th {\n",
       "        text-align: right;\n",
       "    }\n",
       "</style>\n",
       "<table border=\"1\" class=\"dataframe\">\n",
       "  <thead>\n",
       "    <tr style=\"text-align: right;\">\n",
       "      <th></th>\n",
       "      <th>size</th>\n",
       "      <th>normalize_%</th>\n",
       "    </tr>\n",
       "    <tr>\n",
       "      <th>kilometer</th>\n",
       "      <th></th>\n",
       "      <th></th>\n",
       "    </tr>\n",
       "  </thead>\n",
       "  <tbody>\n",
       "    <tr>\n",
       "      <th>150000</th>\n",
       "      <td>229001</td>\n",
       "      <td>67.15</td>\n",
       "    </tr>\n",
       "    <tr>\n",
       "      <th>125000</th>\n",
       "      <td>35621</td>\n",
       "      <td>10.44</td>\n",
       "    </tr>\n",
       "    <tr>\n",
       "      <th>100000</th>\n",
       "      <td>14335</td>\n",
       "      <td>4.20</td>\n",
       "    </tr>\n",
       "    <tr>\n",
       "      <th>90000</th>\n",
       "      <td>11370</td>\n",
       "      <td>3.33</td>\n",
       "    </tr>\n",
       "    <tr>\n",
       "      <th>80000</th>\n",
       "      <td>9868</td>\n",
       "      <td>2.89</td>\n",
       "    </tr>\n",
       "    <tr>\n",
       "      <th>70000</th>\n",
       "      <td>8466</td>\n",
       "      <td>2.48</td>\n",
       "    </tr>\n",
       "    <tr>\n",
       "      <th>60000</th>\n",
       "      <td>7357</td>\n",
       "      <td>2.16</td>\n",
       "    </tr>\n",
       "    <tr>\n",
       "      <th>50000</th>\n",
       "      <td>6139</td>\n",
       "      <td>1.80</td>\n",
       "    </tr>\n",
       "    <tr>\n",
       "      <th>40000</th>\n",
       "      <td>4848</td>\n",
       "      <td>1.42</td>\n",
       "    </tr>\n",
       "    <tr>\n",
       "      <th>5000</th>\n",
       "      <td>4839</td>\n",
       "      <td>1.42</td>\n",
       "    </tr>\n",
       "    <tr>\n",
       "      <th>30000</th>\n",
       "      <td>4311</td>\n",
       "      <td>1.26</td>\n",
       "    </tr>\n",
       "    <tr>\n",
       "      <th>20000</th>\n",
       "      <td>3795</td>\n",
       "      <td>1.11</td>\n",
       "    </tr>\n",
       "    <tr>\n",
       "      <th>10000</th>\n",
       "      <td>1101</td>\n",
       "      <td>0.32</td>\n",
       "    </tr>\n",
       "  </tbody>\n",
       "</table>\n",
       "</div>"
      ],
      "text/plain": [
       "             size  normalize_%\n",
       "kilometer                     \n",
       "150000     229001        67.15\n",
       "125000      35621        10.44\n",
       "100000      14335         4.20\n",
       "90000       11370         3.33\n",
       "80000        9868         2.89\n",
       "70000        8466         2.48\n",
       "60000        7357         2.16\n",
       "50000        6139         1.80\n",
       "40000        4848         1.42\n",
       "5000         4839         1.42\n",
       "30000        4311         1.26\n",
       "20000        3795         1.11\n",
       "10000        1101         0.32"
      ]
     },
     "execution_count": 41,
     "metadata": {},
     "output_type": "execute_result"
    }
   ],
   "source": [
    "custom_value_counts(data['kilometer'])"
   ]
  },
  {
   "cell_type": "markdown",
   "id": "fe8bb57b",
   "metadata": {},
   "source": [
    "13 уникальных значений, но считать категориальным этот признак мы не будем, так как здесь важно абсолютное значение"
   ]
  },
  {
   "cell_type": "markdown",
   "id": "7009e10c",
   "metadata": {},
   "source": [
    "###  Предобработка колонки `\"registration_year\"`"
   ]
  },
  {
   "cell_type": "code",
   "execution_count": 42,
   "id": "81032b03",
   "metadata": {},
   "outputs": [
    {
     "name": "stdout",
     "output_type": "stream",
     "text": [
      "Обзор пропущенных значений:\n"
     ]
    },
    {
     "data": {
      "text/html": [
       "<style type=\"text/css\">\n",
       "</style>\n",
       "<table id=\"T_45578\">\n",
       "  <thead>\n",
       "    <tr>\n",
       "      <th class=\"blank level0\" >&nbsp;</th>\n",
       "      <th id=\"T_45578_level0_col0\" class=\"col_heading level0 col0\" >mean</th>\n",
       "      <th id=\"T_45578_level0_col1\" class=\"col_heading level0 col1\" >sum</th>\n",
       "      <th id=\"T_45578_level0_col2\" class=\"col_heading level0 col2\" >count</th>\n",
       "    </tr>\n",
       "  </thead>\n",
       "  <tbody>\n",
       "    <tr>\n",
       "      <th id=\"T_45578_level0_row0\" class=\"row_heading level0 row0\" >registration_year</th>\n",
       "      <td id=\"T_45578_row0_col0\" class=\"data row0 col0\" >0.00%</td>\n",
       "      <td id=\"T_45578_row0_col1\" class=\"data row0 col1\" >0</td>\n",
       "      <td id=\"T_45578_row0_col2\" class=\"data row0 col2\" >341051</td>\n",
       "    </tr>\n",
       "  </tbody>\n",
       "</table>\n"
      ],
      "text/plain": [
       "<pandas.io.formats.style.Styler at 0x1ee9f2ddc90>"
      ]
     },
     "metadata": {},
     "output_type": "display_data"
    },
    {
     "name": "stdout",
     "output_type": "stream",
     "text": [
      "Описательные статистики:\n"
     ]
    },
    {
     "data": {
      "text/html": [
       "<div>\n",
       "<style scoped>\n",
       "    .dataframe tbody tr th:only-of-type {\n",
       "        vertical-align: middle;\n",
       "    }\n",
       "\n",
       "    .dataframe tbody tr th {\n",
       "        vertical-align: top;\n",
       "    }\n",
       "\n",
       "    .dataframe thead th {\n",
       "        text-align: right;\n",
       "    }\n",
       "</style>\n",
       "<table border=\"1\" class=\"dataframe\">\n",
       "  <thead>\n",
       "    <tr style=\"text-align: right;\">\n",
       "      <th></th>\n",
       "      <th>count</th>\n",
       "      <th>mean</th>\n",
       "      <th>std</th>\n",
       "      <th>min</th>\n",
       "      <th>1%</th>\n",
       "      <th>2%</th>\n",
       "      <th>5%</th>\n",
       "      <th>25%</th>\n",
       "      <th>50%</th>\n",
       "      <th>75%</th>\n",
       "      <th>95%</th>\n",
       "      <th>98%</th>\n",
       "      <th>99%</th>\n",
       "      <th>max</th>\n",
       "    </tr>\n",
       "  </thead>\n",
       "  <tbody>\n",
       "    <tr>\n",
       "      <th>registration_year</th>\n",
       "      <td>341051.00</td>\n",
       "      <td>2003.96</td>\n",
       "      <td>69.81</td>\n",
       "      <td>1000.00</td>\n",
       "      <td>1980.00</td>\n",
       "      <td>1988.00</td>\n",
       "      <td>1993.00</td>\n",
       "      <td>1999.00</td>\n",
       "      <td>2003.00</td>\n",
       "      <td>2008.00</td>\n",
       "      <td>2016.00</td>\n",
       "      <td>2017.00</td>\n",
       "      <td>2018.00</td>\n",
       "      <td>9999.00</td>\n",
       "    </tr>\n",
       "  </tbody>\n",
       "</table>\n",
       "</div>"
      ],
      "text/plain": [
       "                      count    mean   std     min      1%      2%      5%  \\\n",
       "registration_year 341051.00 2003.96 69.81 1000.00 1980.00 1988.00 1993.00   \n",
       "\n",
       "                      25%     50%     75%     95%     98%     99%     max  \n",
       "registration_year 1999.00 2003.00 2008.00 2016.00 2017.00 2018.00 9999.00  "
      ]
     },
     "metadata": {},
     "output_type": "display_data"
    }
   ],
   "source": [
    "investigate_column(data['registration_year'])"
   ]
  },
  {
   "cell_type": "code",
   "execution_count": 43,
   "id": "a9fe28b3",
   "metadata": {},
   "outputs": [
    {
     "data": {
      "text/plain": [
       "registration_year\n",
       "1000       22\n",
       "1001        1\n",
       "1039        1\n",
       "1111        1\n",
       "1234        4\n",
       "1255        1\n",
       "1300        2\n",
       "1400        1\n",
       "1500        3\n",
       "1600        2\n",
       "1602        1\n",
       "1800        4\n",
       "1910       34\n",
       "1923        2\n",
       "1925        1\n",
       "1927        1\n",
       "1928        2\n",
       "1929        6\n",
       "1930        2\n",
       "1931        1\n",
       "1932        3\n",
       "1933        2\n",
       "1934        2\n",
       "1935        3\n",
       "1936        3\n",
       "1937       10\n",
       "1938        8\n",
       "1940        2\n",
       "1941        2\n",
       "1942        2\n",
       "1943        4\n",
       "1944        2\n",
       "1945        4\n",
       "1946        1\n",
       "1947        2\n",
       "1948        2\n",
       "1949        1\n",
       "1950       14\n",
       "1951       10\n",
       "1952        8\n",
       "1953       14\n",
       "1954        9\n",
       "1955       13\n",
       "1956       25\n",
       "1957       13\n",
       "1958       20\n",
       "1959       29\n",
       "1960      120\n",
       "1961       36\n",
       "1962       39\n",
       "1963       55\n",
       "1964       60\n",
       "1965       80\n",
       "1966      110\n",
       "1967       94\n",
       "1968      105\n",
       "1969      117\n",
       "1970      258\n",
       "1971      159\n",
       "1972      209\n",
       "1973      163\n",
       "1974      167\n",
       "1975      136\n",
       "1976      153\n",
       "1977      167\n",
       "1978      272\n",
       "1979      265\n",
       "1980      461\n",
       "1981      248\n",
       "1982      299\n",
       "1983      400\n",
       "1984      382\n",
       "1985      645\n",
       "1986      493\n",
       "1987      624\n",
       "1988      892\n",
       "1989     1222\n",
       "1990     2378\n",
       "1991     2586\n",
       "1992     2825\n",
       "1993     3207\n",
       "1994     4562\n",
       "1995     8706\n",
       "1996    10253\n",
       "1997    13848\n",
       "1998    17027\n",
       "1999    21845\n",
       "2000    22661\n",
       "2001    19573\n",
       "2002    18673\n",
       "2003    19452\n",
       "2004    19303\n",
       "2005    21363\n",
       "2006    19641\n",
       "2007    16976\n",
       "2008    15221\n",
       "2009    14372\n",
       "2010    10657\n",
       "2011     9814\n",
       "2012     7105\n",
       "2013     4078\n",
       "2014     2494\n",
       "2015     1166\n",
       "2016     8847\n",
       "2017     9834\n",
       "2018     3766\n",
       "2019       15\n",
       "2066        1\n",
       "2200        1\n",
       "2222        1\n",
       "2290        1\n",
       "2500        2\n",
       "2800        1\n",
       "2900        1\n",
       "3000        4\n",
       "3200        1\n",
       "3700        1\n",
       "3800        1\n",
       "4000        3\n",
       "4100        1\n",
       "4500        2\n",
       "4800        1\n",
       "5000       13\n",
       "5300        1\n",
       "5555        2\n",
       "5600        1\n",
       "5900        1\n",
       "5911        2\n",
       "6000        5\n",
       "7000        4\n",
       "7100        1\n",
       "7800        1\n",
       "8200        1\n",
       "8500        1\n",
       "8888        1\n",
       "9000        2\n",
       "9450        1\n",
       "9999       13\n",
       "Name: count, dtype: int64"
      ]
     },
     "execution_count": 43,
     "metadata": {},
     "output_type": "execute_result"
    }
   ],
   "source": [
    "data['registration_year'].value_counts().sort_index()"
   ]
  },
  {
   "cell_type": "markdown",
   "id": "467b7417",
   "metadata": {},
   "source": [
    "Видно, что есть некорректные записи"
   ]
  },
  {
   "cell_type": "code",
   "execution_count": 44,
   "id": "49098331",
   "metadata": {},
   "outputs": [
    {
     "data": {
      "image/png": "[encoded data removed]",
      "text/plain": [
       "<Figure size 1000x300 with 1 Axes>"
      ]
     },
     "metadata": {},
     "output_type": "display_data"
    }
   ],
   "source": [
    "plt.figure(figsize=(10, 3))\n",
    "sns.boxplot(data['registration_year'], orient='h')\n",
    "plt.xlabel('Год')\n",
    "plt.title('Диаграмма размаха')\n",
    "plt.xlim(1980, 2019)\n",
    "plt.show()"
   ]
  },
  {
   "cell_type": "markdown",
   "id": "13562eaf",
   "metadata": {},
   "source": [
    "Посмотрим на распределение без аномальных значений"
   ]
  },
  {
   "cell_type": "code",
   "execution_count": 45,
   "id": "923c5a39",
   "metadata": {},
   "outputs": [
    {
     "data": {
      "image/png": "[encoded data removed]",
      "text/plain": [
       "<Figure size 1000x300 with 1 Axes>"
      ]
     },
     "metadata": {},
     "output_type": "display_data"
    }
   ],
   "source": [
    "plt.figure(figsize=(10, 3))\n",
    "ax = sns.countplot(x = 'registration_year', data=data.query('1980 <= registration_year <= 2018'))\n",
    "ax.tick_params(labelrotation = 90)\n",
    "ax.set_title('Распределение года регистрации авто')\n",
    "ax.set(xlabel='Год', ylabel='Количество');"
   ]
  },
  {
   "cell_type": "markdown",
   "id": "c0aececa",
   "metadata": {},
   "source": [
    "Отфильтруем аномальные значения"
   ]
  },
  {
   "cell_type": "code",
   "execution_count": 46,
   "id": "23965e7d",
   "metadata": {},
   "outputs": [],
   "source": [
    "data = data.query('1980 <= registration_year <= 2018')"
   ]
  },
  {
   "cell_type": "code",
   "execution_count": 47,
   "id": "3b858aad",
   "metadata": {},
   "outputs": [
    {
     "name": "stdout",
     "output_type": "stream",
     "text": [
      "4.65%\n"
     ]
    }
   ],
   "source": [
    "# check\n",
    "lost_observations(data)"
   ]
  },
  {
   "cell_type": "markdown",
   "id": "724ac5c6",
   "metadata": {},
   "source": [
    "###  Предобработка колонки `\"power\"`"
   ]
  },
  {
   "cell_type": "code",
   "execution_count": 48,
   "id": "79e57835",
   "metadata": {},
   "outputs": [
    {
     "name": "stdout",
     "output_type": "stream",
     "text": [
      "Обзор пропущенных значений:\n"
     ]
    },
    {
     "data": {
      "text/html": [
       "<style type=\"text/css\">\n",
       "</style>\n",
       "<table id=\"T_1e58c\">\n",
       "  <thead>\n",
       "    <tr>\n",
       "      <th class=\"blank level0\" >&nbsp;</th>\n",
       "      <th id=\"T_1e58c_level0_col0\" class=\"col_heading level0 col0\" >mean</th>\n",
       "      <th id=\"T_1e58c_level0_col1\" class=\"col_heading level0 col1\" >sum</th>\n",
       "      <th id=\"T_1e58c_level0_col2\" class=\"col_heading level0 col2\" >count</th>\n",
       "    </tr>\n",
       "  </thead>\n",
       "  <tbody>\n",
       "    <tr>\n",
       "      <th id=\"T_1e58c_level0_row0\" class=\"row_heading level0 row0\" >power</th>\n",
       "      <td id=\"T_1e58c_row0_col0\" class=\"data row0 col0\" >0.00%</td>\n",
       "      <td id=\"T_1e58c_row0_col1\" class=\"data row0 col1\" >0</td>\n",
       "      <td id=\"T_1e58c_row0_col2\" class=\"data row0 col2\" >337899</td>\n",
       "    </tr>\n",
       "  </tbody>\n",
       "</table>\n"
      ],
      "text/plain": [
       "<pandas.io.formats.style.Styler at 0x1ee9e2248b0>"
      ]
     },
     "metadata": {},
     "output_type": "display_data"
    },
    {
     "name": "stdout",
     "output_type": "stream",
     "text": [
      "Описательные статистики:\n"
     ]
    },
    {
     "data": {
      "text/html": [
       "<div>\n",
       "<style scoped>\n",
       "    .dataframe tbody tr th:only-of-type {\n",
       "        vertical-align: middle;\n",
       "    }\n",
       "\n",
       "    .dataframe tbody tr th {\n",
       "        vertical-align: top;\n",
       "    }\n",
       "\n",
       "    .dataframe thead th {\n",
       "        text-align: right;\n",
       "    }\n",
       "</style>\n",
       "<table border=\"1\" class=\"dataframe\">\n",
       "  <thead>\n",
       "    <tr style=\"text-align: right;\">\n",
       "      <th></th>\n",
       "      <th>count</th>\n",
       "      <th>mean</th>\n",
       "      <th>std</th>\n",
       "      <th>min</th>\n",
       "      <th>1%</th>\n",
       "      <th>2%</th>\n",
       "      <th>5%</th>\n",
       "      <th>25%</th>\n",
       "      <th>50%</th>\n",
       "      <th>75%</th>\n",
       "      <th>95%</th>\n",
       "      <th>98%</th>\n",
       "      <th>99%</th>\n",
       "      <th>max</th>\n",
       "    </tr>\n",
       "  </thead>\n",
       "  <tbody>\n",
       "    <tr>\n",
       "      <th>power</th>\n",
       "      <td>337899.00</td>\n",
       "      <td>111.69</td>\n",
       "      <td>186.94</td>\n",
       "      <td>0.00</td>\n",
       "      <td>0.00</td>\n",
       "      <td>0.00</td>\n",
       "      <td>0.00</td>\n",
       "      <td>71.00</td>\n",
       "      <td>105.00</td>\n",
       "      <td>143.00</td>\n",
       "      <td>218.00</td>\n",
       "      <td>258.00</td>\n",
       "      <td>300.00</td>\n",
       "      <td>20000.00</td>\n",
       "    </tr>\n",
       "  </tbody>\n",
       "</table>\n",
       "</div>"
      ],
      "text/plain": [
       "          count   mean    std  min   1%   2%   5%   25%    50%    75%    95%  \\\n",
       "power 337899.00 111.69 186.94 0.00 0.00 0.00 0.00 71.00 105.00 143.00 218.00   \n",
       "\n",
       "         98%    99%      max  \n",
       "power 258.00 300.00 20000.00  "
      ]
     },
     "metadata": {},
     "output_type": "display_data"
    }
   ],
   "source": [
    "investigate_column(data['power'])"
   ]
  },
  {
   "cell_type": "code",
   "execution_count": 49,
   "id": "a188de01",
   "metadata": {},
   "outputs": [
    {
     "data": {
      "text/plain": [
       "34780"
      ]
     },
     "execution_count": 49,
     "metadata": {},
     "output_type": "execute_result"
    }
   ],
   "source": [
    "(data['power'] <= 30).sum()"
   ]
  },
  {
   "cell_type": "code",
   "execution_count": 50,
   "id": "870f12bd",
   "metadata": {},
   "outputs": [
    {
     "name": "stdout",
     "output_type": "stream",
     "text": [
      "Количество авто с аномально низким значение мощности 34780, и с аномально высоким значение 7089\n"
     ]
    }
   ],
   "source": [
    "print(\n",
    "    f'Количество авто с аномально низким значение мощности {(data[\"power\"] <= 30).sum()}, и с аномально высоким значение {(data[\"power\"] > 250).sum()}'\n",
    ")"
   ]
  },
  {
   "cell_type": "markdown",
   "id": "010e8b27",
   "metadata": {},
   "source": [
    "Пропуски в признаке `power` импутируем групповыми средними. Мы воспользуемся средними значениями признака `power`, вычисленными по категориям признака `model`. Но для начала присвоим этим значения NaN"
   ]
  },
  {
   "cell_type": "code",
   "execution_count": 51,
   "id": "e73e14e5",
   "metadata": {},
   "outputs": [],
   "source": [
    "data.loc[(data[\"power\"] <= 30) | (data[\"power\"] > 250), 'power'] = np.NaN"
   ]
  },
  {
   "cell_type": "code",
   "execution_count": 52,
   "id": "19df8063",
   "metadata": {},
   "outputs": [
    {
     "data": {
      "text/plain": [
       "41869"
      ]
     },
     "execution_count": 52,
     "metadata": {},
     "output_type": "execute_result"
    }
   ],
   "source": [
    "data[\"power\"].isna().sum()"
   ]
  },
  {
   "cell_type": "code",
   "execution_count": 53,
   "id": "5a40d667",
   "metadata": {},
   "outputs": [],
   "source": [
    "model_mean_power = data.groupby(['model'])['power'].transform('mean')\n",
    "data['power'] = np.where(data['power'].isna(), model_mean_power, data['power'])"
   ]
  },
  {
   "cell_type": "code",
   "execution_count": 54,
   "id": "f697de76",
   "metadata": {},
   "outputs": [
    {
     "data": {
      "text/plain": [
       "0"
      ]
     },
     "execution_count": 54,
     "metadata": {},
     "output_type": "execute_result"
    }
   ],
   "source": [
    "data[\"power\"].isna().sum()"
   ]
  },
  {
   "cell_type": "code",
   "execution_count": 55,
   "id": "e4809fc9",
   "metadata": {},
   "outputs": [
    {
     "data": {
      "image/png": "[encoded data removed]",
      "text/plain": [
       "<Figure size 1000x300 with 1 Axes>"
      ]
     },
     "metadata": {},
     "output_type": "display_data"
    }
   ],
   "source": [
    "plt.figure(figsize=(10, 3))\n",
    "sns.histplot(data['power'], bins=10)\n",
    "plt.xlabel('Мощность (л. с.)')\n",
    "plt.ylabel('Частота')\n",
    "plt.title('Распределение мощности авто')\n",
    "plt.show()"
   ]
  },
  {
   "cell_type": "code",
   "execution_count": 56,
   "id": "3c6407f3",
   "metadata": {},
   "outputs": [
    {
     "name": "stdout",
     "output_type": "stream",
     "text": [
      "<class 'pandas.core.frame.DataFrame'>\n",
      "Index: 337899 entries, 0 to 354368\n",
      "Data columns (total 10 columns):\n",
      " #   Column             Non-Null Count   Dtype  \n",
      "---  ------             --------------   -----  \n",
      " 0   price              337899 non-null  int64  \n",
      " 1   vehicle_type       337899 non-null  object \n",
      " 2   registration_year  337899 non-null  int64  \n",
      " 3   gearbox            337899 non-null  object \n",
      " 4   power              337899 non-null  float64\n",
      " 5   model              337899 non-null  object \n",
      " 6   kilometer          337899 non-null  int64  \n",
      " 7   fuel_type          337899 non-null  object \n",
      " 8   brand              337899 non-null  object \n",
      " 9   repaired           337899 non-null  object \n",
      "dtypes: float64(1), int64(3), object(6)\n",
      "memory usage: 28.4+ MB\n"
     ]
    }
   ],
   "source": [
    "data.info()"
   ]
  },
  {
   "cell_type": "code",
   "execution_count": 57,
   "id": "e6a80853",
   "metadata": {},
   "outputs": [
    {
     "name": "stdout",
     "output_type": "stream",
     "text": [
      "4.65%\n"
     ]
    }
   ],
   "source": [
    "lost_observations(data)"
   ]
  },
  {
   "cell_type": "markdown",
   "id": "49d1b5ce",
   "metadata": {},
   "source": [
    "### Вывод"
   ]
  },
  {
   "cell_type": "markdown",
   "id": "9cc50557",
   "metadata": {},
   "source": [
    "В этой части проекта была проведена предобработка данных, а именно:\n",
    "\n",
    "* удалены явные дубликаты,\n",
    "\n",
    "* заполнены пропущенные значения в колонках,\n",
    "* обработаны аномалии в столбцах,\n",
    "* удалены колонки неважные для предсказания.\n",
    "\n",
    "На этапе предобработки потеряно 4.65 % записей. Можно переходить к подготовке данных для машинного обучения."
   ]
  },
  {
   "cell_type": "markdown",
   "id": "06686946",
   "metadata": {},
   "source": [
    "##  Построение моделей\n",
    "\n",
    "### Разделение исходных данных на выборки\n",
    "\n",
    "Сохраним в отдельные переменные признаки и целевой признак."
   ]
  },
  {
   "cell_type": "code",
   "execution_count": 58,
   "id": "37e6af94",
   "metadata": {},
   "outputs": [],
   "source": [
    "# целевой признак\n",
    "y = data['price']\n",
    "# признаки\n",
    "features = data.drop(['price'], axis=1)"
   ]
  },
  {
   "cell_type": "markdown",
   "id": "6e1bd388",
   "metadata": {},
   "source": [
    "Создаем список категориальных признаков и список количественных признаков"
   ]
  },
  {
   "cell_type": "code",
   "execution_count": 59,
   "id": "378d7a9e",
   "metadata": {},
   "outputs": [
    {
     "data": {
      "text/plain": [
       "['registration_year', 'power', 'kilometer']"
      ]
     },
     "execution_count": 59,
     "metadata": {},
     "output_type": "execute_result"
    }
   ],
   "source": [
    "num_columns = features.select_dtypes(exclude=[\"object\"]).columns.tolist()\n",
    "num_columns"
   ]
  },
  {
   "cell_type": "code",
   "execution_count": 60,
   "id": "67452236",
   "metadata": {},
   "outputs": [
    {
     "data": {
      "text/plain": [
       "['vehicle_type', 'gearbox', 'model', 'fuel_type', 'brand', 'repaired']"
      ]
     },
     "execution_count": 60,
     "metadata": {},
     "output_type": "execute_result"
    }
   ],
   "source": [
    "cat_columns = [name for name in features.columns if name not in num_columns]\n",
    "cat_columns"
   ]
  },
  {
   "cell_type": "code",
   "execution_count": 61,
   "id": "df7744a0",
   "metadata": {},
   "outputs": [],
   "source": [
    "# изменение порядка следования столбцов\n",
    "features = features[num_columns + cat_columns]"
   ]
  },
  {
   "cell_type": "code",
   "execution_count": 62,
   "id": "184ac60c",
   "metadata": {},
   "outputs": [
    {
     "data": {
      "text/html": [
       "<div>\n",
       "<style scoped>\n",
       "    .dataframe tbody tr th:only-of-type {\n",
       "        vertical-align: middle;\n",
       "    }\n",
       "\n",
       "    .dataframe tbody tr th {\n",
       "        vertical-align: top;\n",
       "    }\n",
       "\n",
       "    .dataframe thead th {\n",
       "        text-align: right;\n",
       "    }\n",
       "</style>\n",
       "<table border=\"1\" class=\"dataframe\">\n",
       "  <thead>\n",
       "    <tr style=\"text-align: right;\">\n",
       "      <th></th>\n",
       "      <th>registration_year</th>\n",
       "      <th>power</th>\n",
       "      <th>kilometer</th>\n",
       "      <th>vehicle_type</th>\n",
       "      <th>gearbox</th>\n",
       "      <th>model</th>\n",
       "      <th>fuel_type</th>\n",
       "      <th>brand</th>\n",
       "      <th>repaired</th>\n",
       "    </tr>\n",
       "  </thead>\n",
       "  <tbody>\n",
       "    <tr>\n",
       "      <th>0</th>\n",
       "      <td>1993</td>\n",
       "      <td>103.26</td>\n",
       "      <td>150000</td>\n",
       "      <td>not_recorded</td>\n",
       "      <td>manual</td>\n",
       "      <td>golf</td>\n",
       "      <td>petrol</td>\n",
       "      <td>volkswagen</td>\n",
       "      <td>not_recorded</td>\n",
       "    </tr>\n",
       "    <tr>\n",
       "      <th>1</th>\n",
       "      <td>2011</td>\n",
       "      <td>190.00</td>\n",
       "      <td>125000</td>\n",
       "      <td>coupe</td>\n",
       "      <td>manual</td>\n",
       "      <td>not_recorded</td>\n",
       "      <td>gasoline</td>\n",
       "      <td>audi</td>\n",
       "      <td>yes</td>\n",
       "    </tr>\n",
       "  </tbody>\n",
       "</table>\n",
       "</div>"
      ],
      "text/plain": [
       "   registration_year  power  kilometer  vehicle_type gearbox         model  \\\n",
       "0               1993 103.26     150000  not_recorded  manual          golf   \n",
       "1               2011 190.00     125000         coupe  manual  not_recorded   \n",
       "\n",
       "  fuel_type       brand      repaired  \n",
       "0    petrol  volkswagen  not_recorded  \n",
       "1  gasoline        audi           yes  "
      ]
     },
     "execution_count": 62,
     "metadata": {},
     "output_type": "execute_result"
    }
   ],
   "source": [
    "features.head(2)"
   ]
  },
  {
   "cell_type": "code",
   "execution_count": 63,
   "id": "03de69b0",
   "metadata": {},
   "outputs": [
    {
     "data": {
      "text/plain": [
       "[3, 4, 5, 6, 7, 8]"
      ]
     },
     "execution_count": 63,
     "metadata": {},
     "output_type": "execute_result"
    }
   ],
   "source": [
    "# индексы колонок с категориальными признаками\n",
    "cat_indexes = [i for i in range(len(num_columns), len(features.columns))]\n",
    "cat_indexes"
   ]
  },
  {
   "cell_type": "markdown",
   "id": "4511f363",
   "metadata": {},
   "source": [
    "В дальнейшем подбор гиперпараметров планируется выполнять автоматически с помощью `RandomizedSearchCV` (поиск по сетке, контроль качества осуществляется по технике кросс-валидации). Поэтому разобьем данные на 2 части - обучающую и тестовую выборки в соотношении 3:1."
   ]
  },
  {
   "cell_type": "code",
   "execution_count": 64,
   "id": "fa6f11f8",
   "metadata": {},
   "outputs": [],
   "source": [
    "# выделение обучающей выборки (75 %) и тестовой (25 %)\n",
    "X_train, X_test, y_train, y_test = train_test_split(\n",
    "    features, y, test_size=0.25, random_state=RANDOM_STATE\n",
    ")"
   ]
  },
  {
   "cell_type": "code",
   "execution_count": 65,
   "id": "c24a1999",
   "metadata": {},
   "outputs": [
    {
     "data": {
      "text/plain": [
       "((337899, 9), (253424, 9), (84475, 9), (253424,), (84475,))"
      ]
     },
     "execution_count": 65,
     "metadata": {},
     "output_type": "execute_result"
    }
   ],
   "source": [
    "# check\n",
    "features.shape, X_train.shape, X_test.shape, y_train.shape, y_test.shape"
   ]
  },
  {
   "cell_type": "markdown",
   "id": "c3d068f2",
   "metadata": {},
   "source": [
    "### Обучение моделей"
   ]
  },
  {
   "cell_type": "markdown",
   "id": "c66f3784",
   "metadata": {},
   "source": [
    "Рассмотрим модели градиентного бустинга - `CatBoostRegressor` и `LGBMRegressor`. Подбирать гиперпараметры регрессоров с наилучшей метрикой качества *RMSE* будем с помощью `RandomizedSearchCV`.\n",
    "\n",
    "Для проверки моделей на адекватность будем использовать константную модель `DummyRegressor()`, которая всегда предсказывает среднее значение целевого признака обучающей выборки.\n",
    "\n",
    "В датафрейме присутсвуют категориальные признаки. С помощью техник One-Hot Encoding и Ordinal Encoding преобразуем их в численные признаки.\n",
    "\n",
    "К количественными признакам будем применять масштабирование (StandardScaler), если того требует соответствующий алгоритм обучения."
   ]
  },
  {
   "cell_type": "markdown",
   "id": "0ab3bcf1",
   "metadata": {},
   "source": [
    "Создадим функцию, приводящую тип данных в таблице к типу 'category'. Добавим этот шаг в пайплайн."
   ]
  },
  {
   "cell_type": "code",
   "execution_count": 66,
   "id": "af9c01d6",
   "metadata": {},
   "outputs": [],
   "source": [
    "def to_category(df):\n",
    "    return df.astype('category')"
   ]
  },
  {
   "cell_type": "code",
   "execution_count": 67,
   "id": "5ce4c4b1",
   "metadata": {},
   "outputs": [],
   "source": [
    "ct = ColumnTransformer(\n",
    "    [('scaler', StandardScaler(), num_columns),\n",
    "     ('encoder', OrdinalEncoder(), cat_columns),\n",
    "     ('func', FunctionTransformer(to_category), cat_indexes)])\n",
    "\n",
    "pipe = Pipeline([('preprocessor', ct),\n",
    "                 ('regressor', CatBoostRegressor())])"
   ]
  },
  {
   "cell_type": "markdown",
   "id": "42fd4c28",
   "metadata": {},
   "source": [
    "Ниже приведены уточненные гиперпараметры для моделей."
   ]
  },
  {
   "cell_type": "code",
   "execution_count": 68,
   "id": "f4f9a295",
   "metadata": {},
   "outputs": [],
   "source": [
    "# создание сетки гиперпараметров\n",
    "parameters = [\n",
    "    {\n",
    "        \"regressor\": [CatBoostRegressor(verbose=0, random_state=RANDOM_STATE)],\n",
    "        'regressor__cat_features': [cat_indexes],\n",
    "        \"regressor__n_estimators\": [100, 200, 500],\n",
    "        \"regressor__max_depth\": [5, 6, 8],\n",
    "        \"regressor__learning_rate\": [0.003, 0.03, 0.1],\n",
    "        \"preprocessor\": [None],\n",
    "    },\n",
    "    {\n",
    "        \"regressor\": [LGBMRegressor(random_state=RANDOM_STATE)],\n",
    "        \"regressor__categorical_feature\": [cat_indexes],\n",
    "        \"regressor__max_depth\": [-1, 3, 5, 7],\n",
    "        \"regressor__n_estimators\": [50, 100, 200, 500, 700, 1000],\n",
    "        \"regressor__learning_rate\": [0.1, 0.03, 0.003],\n",
    "        \"preprocessor__scaler\": [\"passthrough\"],\n",
    "        \"preprocessor__encoder\": [\"drop\"],\n",
    "        \"preprocessor__func\": [FunctionTransformer(to_category)],\n",
    "    },\n",
    "    {\n",
    "        \"regressor\": [DummyRegressor(strategy=\"mean\")],\n",
    "        \"preprocessor__scaler\": [\"passthrough\"],\n",
    "        \"preprocessor__encoder\": [\n",
    "            OrdinalEncoder(handle_unknown=\"use_encoded_value\", unknown_value=-1)\n",
    "        ],\n",
    "        \"preprocessor__func\": [\"drop\"],\n",
    "    },\n",
    "]"
   ]
  },
  {
   "cell_type": "code",
   "execution_count": 69,
   "id": "b80231b1",
   "metadata": {},
   "outputs": [],
   "source": [
    "# список с названиями моделей\n",
    "model_list = [\"CatBoostRegressor\", \"LGBMRegressor\", \"Dummy\"]"
   ]
  },
  {
   "cell_type": "code",
   "execution_count": 70,
   "id": "00b8521c",
   "metadata": {},
   "outputs": [
    {
     "name": "stdout",
     "output_type": "stream",
     "text": [
      "Fitting 5 folds for each of 27 candidates, totalling 135 fits\n",
      "Fitting 5 folds for each of 30 candidates, totalling 150 fits\n",
      "[LightGBM] [Warning] categorical_feature is set=3,4,5,6,7,8, categorical_column=3,4,5,6,7,8 will be ignored. Current value: categorical_feature=3,4,5,6,7,8\n",
      "[LightGBM] [Info] Auto-choosing row-wise multi-threading, the overhead of testing was 0.005296 seconds.\n",
      "You can set `force_row_wise=true` to remove the overhead.\n",
      "And if memory is not enough, you can set `force_col_wise=true`.\n",
      "[LightGBM] [Info] Total Bins 525\n",
      "[LightGBM] [Info] Number of data points in the train set: 253424, number of used features: 9\n",
      "[LightGBM] [Info] Start training from score 4565.591905\n",
      "Fitting 5 folds for each of 1 candidates, totalling 5 fits\n",
      "CPU times: total: 8min 3s\n",
      "Wall time: 32min 39s\n"
     ]
    }
   ],
   "source": [
    "%%time\n",
    "\n",
    "# таблица с построенными моделями\n",
    "results = []\n",
    "\n",
    "# обучение нескольких классификаторов, сохранение результатов\n",
    "for params, model_name in zip(parameters, model_list):\n",
    "    # создание экземпляра GriddSearchCV\n",
    "    rs = RandomizedSearchCV(\n",
    "                    pipe,\n",
    "                    params,\n",
    "                    n_iter=30,\n",
    "                    cv=5,\n",
    "                    verbose=1,\n",
    "                    random_state=RANDOM_STATE,\n",
    "                    scoring='neg_root_mean_squared_error',\n",
    "                    n_jobs=-1,\n",
    "                    error_score='raise')\n",
    "\n",
    "    # запуск поиска по сетке\n",
    "    rs.fit(X_train, y_train)\n",
    "    \n",
    "    # результаты кросс-валидации\n",
    "    cv_results = pd.DataFrame(rs.cv_results_)\n",
    "    fit_time = cv_results[cv_results['rank_test_score'] == 1]['mean_fit_time'].values[0]\n",
    "    predict_time = cv_results[cv_results['rank_test_score'] == 1]['mean_score_time'].values[0]\n",
    "    dict_to_add = {'модель': model_name,\n",
    "                   'neg_root_mean_squared_error': rs.best_score_,\n",
    "                   'Время обучения': fit_time,\n",
    "                   'Время предсказания': predict_time,\n",
    "                   'rs': rs}\n",
    "    results.append(dict_to_add)"
   ]
  },
  {
   "cell_type": "code",
   "execution_count": 71,
   "id": "faf1b161",
   "metadata": {},
   "outputs": [
    {
     "data": {
      "text/html": [
       "<div>\n",
       "<style scoped>\n",
       "    .dataframe tbody tr th:only-of-type {\n",
       "        vertical-align: middle;\n",
       "    }\n",
       "\n",
       "    .dataframe tbody tr th {\n",
       "        vertical-align: top;\n",
       "    }\n",
       "\n",
       "    .dataframe thead th {\n",
       "        text-align: right;\n",
       "    }\n",
       "</style>\n",
       "<table border=\"1\" class=\"dataframe\">\n",
       "  <thead>\n",
       "    <tr style=\"text-align: right;\">\n",
       "      <th></th>\n",
       "      <th>модель</th>\n",
       "      <th>neg_root_mean_squared_error</th>\n",
       "      <th>Время обучения</th>\n",
       "      <th>Время предсказания</th>\n",
       "      <th>rs</th>\n",
       "    </tr>\n",
       "  </thead>\n",
       "  <tbody>\n",
       "    <tr>\n",
       "      <th>0</th>\n",
       "      <td>LGBMRegressor</td>\n",
       "      <td>-1575.03</td>\n",
       "      <td>50.10</td>\n",
       "      <td>0.83</td>\n",
       "      <td>RandomizedSearchCV(cv=5, error_score='raise',\\...</td>\n",
       "    </tr>\n",
       "    <tr>\n",
       "      <th>1</th>\n",
       "      <td>CatBoostRegressor</td>\n",
       "      <td>-1645.31</td>\n",
       "      <td>226.79</td>\n",
       "      <td>0.25</td>\n",
       "      <td>RandomizedSearchCV(cv=5, error_score='raise',\\...</td>\n",
       "    </tr>\n",
       "    <tr>\n",
       "      <th>2</th>\n",
       "      <td>Dummy</td>\n",
       "      <td>-4497.70</td>\n",
       "      <td>0.26</td>\n",
       "      <td>0.05</td>\n",
       "      <td>RandomizedSearchCV(cv=5, error_score='raise',\\...</td>\n",
       "    </tr>\n",
       "  </tbody>\n",
       "</table>\n",
       "</div>"
      ],
      "text/plain": [
       "              модель  neg_root_mean_squared_error  Время обучения  \\\n",
       "0      LGBMRegressor                     -1575.03           50.10   \n",
       "1  CatBoostRegressor                     -1645.31          226.79   \n",
       "2              Dummy                     -4497.70            0.26   \n",
       "\n",
       "   Время предсказания                                                 rs  \n",
       "0                0.83  RandomizedSearchCV(cv=5, error_score='raise',\\...  \n",
       "1                0.25  RandomizedSearchCV(cv=5, error_score='raise',\\...  \n",
       "2                0.05  RandomizedSearchCV(cv=5, error_score='raise',\\...  "
      ]
     },
     "execution_count": 71,
     "metadata": {},
     "output_type": "execute_result"
    }
   ],
   "source": [
    "results_2 = pd.DataFrame(results).sort_values(by='neg_root_mean_squared_error', ascending=False).reset_index(drop=True)\n",
    "results_2"
   ]
  },
  {
   "cell_type": "code",
   "execution_count": 72,
   "id": "25e0c22a",
   "metadata": {},
   "outputs": [
    {
     "data": {
      "text/plain": [
       "{'regressor__n_estimators': 1000,\n",
       " 'regressor__max_depth': -1,\n",
       " 'regressor__learning_rate': 0.1,\n",
       " 'regressor__categorical_feature': [3, 4, 5, 6, 7, 8],\n",
       " 'regressor': LGBMRegressor(random_state=271123),\n",
       " 'preprocessor__scaler': 'passthrough',\n",
       " 'preprocessor__func': FunctionTransformer(func=<function to_category at 0x000001EE9F03C940>),\n",
       " 'preprocessor__encoder': 'drop'}"
      ]
     },
     "execution_count": 72,
     "metadata": {},
     "output_type": "execute_result"
    }
   ],
   "source": [
    "# гиперпараметры LGBMRegressor\n",
    "results_2['rs'][0].best_params_"
   ]
  },
  {
   "cell_type": "code",
   "execution_count": 73,
   "id": "de931e5c",
   "metadata": {},
   "outputs": [
    {
     "data": {
      "text/plain": [
       "{'regressor__n_estimators': 500,\n",
       " 'regressor__max_depth': 8,\n",
       " 'regressor__learning_rate': 0.1,\n",
       " 'regressor__cat_features': [3, 4, 5, 6, 7, 8],\n",
       " 'regressor': <catboost.core.CatBoostRegressor at 0x1ee9f02c4f0>,\n",
       " 'preprocessor': None}"
      ]
     },
     "execution_count": 73,
     "metadata": {},
     "output_type": "execute_result"
    }
   ],
   "source": [
    "# гиперпараметры CatBoostRegressor\n",
    "results_2['rs'][1].best_params_"
   ]
  },
  {
   "cell_type": "markdown",
   "id": "5c3b9b2c",
   "metadata": {},
   "source": [
    "На этом этапе обучены модели регрессии `CatBoost` и `LightGBM`, выбраны модели с наилучшим значением метрики качества *RMSE* с помощью рандомизированного поиска по гиперпараметрам, ими оказались:\n",
    "\n",
    "* `LGBMRegressor(n_estimators=1000, max_depth=-1, learning_rate=0.1)`,\n",
    "* `CatBoostRegressor(n_estimators=500, max_depth=8, learning_rate=0.1)`.\n",
    "                             \n",
    "Также для оценки адекватности моделей была использована модель `DummyRegressor()`, предсказывающая среднее значение целевого признака обучающей выборки.\n",
    "\n",
    "Перейдем к более детальному анализу моделей, исходя из требований заказчика."
   ]
  },
  {
   "cell_type": "markdown",
   "id": "581c580a",
   "metadata": {},
   "source": [
    "### Проверка качества модели на тестовой выборке"
   ]
  },
  {
   "cell_type": "code",
   "execution_count": 77,
   "id": "b5eea0fb",
   "metadata": {},
   "outputs": [
    {
     "name": "stdout",
     "output_type": "stream",
     "text": [
      "RMSE наилучшей модели на тестовой выборке: 1551.12 евро\n"
     ]
    }
   ],
   "source": [
    "# предсказания модели на тестовой выборке\n",
    "rmse = mean_squared_error(y_test, results_2['rs'][0].predict(X_test), squared=False)\n",
    "print(f'RMSE наилучшей модели на тестовой выборке:{rmse: .2f} евро')"
   ]
  },
  {
   "cell_type": "markdown",
   "id": "858910b3",
   "metadata": {},
   "source": [
    "Таким образом, модель `LightGBM` на тестовой выборке показала результат метрики ***RMSE* 1551.12** евро."
   ]
  },
  {
   "cell_type": "markdown",
   "id": "ef465dbe",
   "metadata": {},
   "source": [
    "### Вывод"
   ]
  },
  {
   "cell_type": "markdown",
   "id": "9be5e7d4",
   "metadata": {},
   "source": [
    "На этапе построения моделей:\n",
    "\n",
    "* данные разделены на обучающую и тестовую выборки,\n",
    "\n",
    "* подготовлен пайплайн, включающий предобработку данных (кодирование, масштабирование, изменение типа данных) и регрессор,\n",
    "\n",
    "* рассмотрены модели `CatBoostRegressor` и `LGBMRegressor`,\n",
    "\n",
    "* подбор гиперпараметров выполнялся с помощью `RandomizedSearchCV`,\n",
    "\n",
    "* наилучшую метрику качества ***RMSE* = 1575.03** на кроссвалидации показала модель `LGBMRegressor`,\n",
    "\n",
    "* на тестовой выборке лучшая модель показала качество ***RMSE* = 1551.12**."
   ]
  },
  {
   "cell_type": "code",
   "execution_count": 78,
   "id": "38fcc3a4",
   "metadata": {},
   "outputs": [
    {
     "name": "stdout",
     "output_type": "stream",
     "text": [
      "4.65%\n"
     ]
    }
   ],
   "source": [
    "lost_observations(data)"
   ]
  },
  {
   "cell_type": "markdown",
   "id": "00f3aebc",
   "metadata": {},
   "source": [
    "## Общий вывод"
   ]
  },
  {
   "cell_type": "markdown",
   "id": "16e9032f",
   "metadata": {},
   "source": [
    "Было проведено исследование, позволившее построить модель для задачи регрессии, которая прогнозирует рыночную стоимость автомобиля. Входные данные – данные о технических характеристиках, комплектации и ценах других автомобилей.\n",
    "\n",
    "Изучение файла с данными и исследовательский анализ данных показали необходимость предобработки. Пропущенные значения и аномалии были заполнены и устранены соответственно. Также из датасета были удалены признаки, не несущие информацию для предсказания. На этапе предобработки было потеряно 4.65 % наблюдений от исходных данных.\n",
    "\n",
    "Данные были разделены на обучающую и тестовую выборки в соотношении 3:1. Для моделей `CatBoostRegressor` и `LGBMRegressor` использовались встроенные кодировщики, для `LGBMRegressor` предварительно потребовалось приведение категориальных признаков к типу *category*.\n",
    "\n",
    "Упомянутые выше модели были построены и обучены с помощью рандомизированного поиска по гиперпараметрам. В результате по критериям качества предсказания и скорости обучения наилучшей оказалась модель **`LightGBM` с *RMSE* = 1575.03 евро, временем обучения 50.10 с и временем предсказания 0.83 с**.\n",
    "\n",
    "Адекватность построенных моделей подтвердилась путем сравнения с работой константной модели `DummyRegressor`, ***RMSE***  которой составила **4497.70 евро**.\n",
    "\n",
    "Окончательная проверка качества модели `LightGBM` на тестовой выборке показала значение ***RMSE* 1551.12 евро**."
   ]
  }
 ],
 "metadata": {
  "ExecuteTimeLog": [
   {
    "duration": 2486,
    "start_time": "2023-01-17T18:18:00.242Z"
   },
   {
    "duration": 3,
    "start_time": "2023-01-17T18:18:03.817Z"
   },
   {
    "duration": 740,
    "start_time": "2023-01-17T18:18:04.416Z"
   },
   {
    "duration": 16,
    "start_time": "2023-01-17T18:18:05.760Z"
   },
   {
    "duration": 1578,
    "start_time": "2023-01-17T18:31:22.262Z"
   },
   {
    "duration": 3,
    "start_time": "2023-01-17T18:31:25.532Z"
   },
   {
    "duration": 787,
    "start_time": "2023-01-17T18:31:26.437Z"
   },
   {
    "duration": 23,
    "start_time": "2023-01-17T18:31:27.226Z"
   },
   {
    "duration": 4,
    "start_time": "2023-01-17T18:31:27.406Z"
   },
   {
    "duration": 3,
    "start_time": "2023-01-17T18:31:27.564Z"
   },
   {
    "duration": 3,
    "start_time": "2023-01-17T18:31:27.718Z"
   },
   {
    "duration": 121,
    "start_time": "2023-01-17T18:31:28.022Z"
   },
   {
    "duration": 301,
    "start_time": "2023-01-17T18:31:28.335Z"
   },
   {
    "duration": 15,
    "start_time": "2023-01-17T18:31:28.637Z"
   },
   {
    "duration": 6,
    "start_time": "2023-01-17T18:31:28.758Z"
   },
   {
    "duration": 213,
    "start_time": "2023-01-17T18:31:28.916Z"
   },
   {
    "duration": 2,
    "start_time": "2023-01-17T18:31:29.886Z"
   },
   {
    "duration": 274,
    "start_time": "2023-01-17T18:31:30.231Z"
   },
   {
    "duration": 339,
    "start_time": "2023-01-17T18:31:30.507Z"
   },
   {
    "duration": 3,
    "start_time": "2023-01-17T18:31:30.849Z"
   },
   {
    "duration": 34,
    "start_time": "2023-01-17T18:31:31.103Z"
   },
   {
    "duration": 19,
    "start_time": "2023-01-17T18:31:31.452Z"
   },
   {
    "duration": 58,
    "start_time": "2023-01-17T18:31:31.800Z"
   },
   {
    "duration": 3,
    "start_time": "2023-01-17T18:31:32.138Z"
   },
   {
    "duration": 19,
    "start_time": "2023-01-17T18:31:32.476Z"
   },
   {
    "duration": 368,
    "start_time": "2023-01-17T18:31:32.650Z"
   },
   {
    "duration": 49,
    "start_time": "2023-01-17T18:31:33.020Z"
   },
   {
    "duration": 3,
    "start_time": "2023-01-17T18:31:33.369Z"
   },
   {
    "duration": 423,
    "start_time": "2023-01-17T18:31:33.715Z"
   },
   {
    "duration": 32,
    "start_time": "2023-01-17T18:31:34.140Z"
   },
   {
    "duration": 173,
    "start_time": "2023-01-17T18:31:34.242Z"
   },
   {
    "duration": 9,
    "start_time": "2023-01-17T18:31:34.605Z"
   },
   {
    "duration": 18,
    "start_time": "2023-01-17T18:31:35.169Z"
   },
   {
    "duration": 16,
    "start_time": "2023-01-17T18:31:35.488Z"
   },
   {
    "duration": 3,
    "start_time": "2023-01-17T18:31:35.651Z"
   },
   {
    "duration": 183,
    "start_time": "2023-01-17T18:31:35.801Z"
   },
   {
    "duration": 136,
    "start_time": "2023-01-17T18:31:35.986Z"
   },
   {
    "duration": 36,
    "start_time": "2023-01-17T18:31:36.124Z"
   },
   {
    "duration": 24,
    "start_time": "2023-01-17T18:31:36.580Z"
   },
   {
    "duration": 8,
    "start_time": "2023-01-17T18:31:36.910Z"
   },
   {
    "duration": 292,
    "start_time": "2023-01-17T18:31:37.220Z"
   },
   {
    "duration": 315,
    "start_time": "2023-01-17T18:31:37.514Z"
   },
   {
    "duration": 50,
    "start_time": "2023-01-17T18:31:37.830Z"
   },
   {
    "duration": 3,
    "start_time": "2023-01-17T18:31:37.917Z"
   },
   {
    "duration": 11,
    "start_time": "2023-01-17T18:31:38.086Z"
   },
   {
    "duration": 20,
    "start_time": "2023-01-17T18:31:38.577Z"
   },
   {
    "duration": 34,
    "start_time": "2023-01-17T18:31:38.731Z"
   },
   {
    "duration": 102,
    "start_time": "2023-01-17T18:31:39.062Z"
   },
   {
    "duration": 3,
    "start_time": "2023-01-17T18:31:39.240Z"
   },
   {
    "duration": 13,
    "start_time": "2023-01-17T18:31:39.610Z"
   },
   {
    "duration": 5,
    "start_time": "2023-01-17T18:31:39.787Z"
   },
   {
    "duration": 96,
    "start_time": "2023-01-17T18:31:39.973Z"
   },
   {
    "duration": 13,
    "start_time": "2023-01-17T18:31:40.149Z"
   },
   {
    "duration": 5,
    "start_time": "2023-01-17T18:31:40.346Z"
   },
   {
    "duration": 12,
    "start_time": "2023-01-17T18:31:40.517Z"
   },
   {
    "duration": 4,
    "start_time": "2023-01-17T18:31:40.681Z"
   },
   {
    "duration": 8809,
    "start_time": "2023-01-17T18:31:41.202Z"
   },
   {
    "duration": 184,
    "start_time": "2023-01-17T18:31:50.013Z"
   },
   {
    "duration": 3,
    "start_time": "2023-01-17T18:31:50.199Z"
   },
   {
    "duration": 23,
    "start_time": "2023-01-17T18:31:50.203Z"
   },
   {
    "duration": 186,
    "start_time": "2023-01-17T18:31:50.227Z"
   },
   {
    "duration": 3,
    "start_time": "2023-01-17T18:31:50.414Z"
   },
   {
    "duration": 43,
    "start_time": "2023-01-17T18:31:50.419Z"
   },
   {
    "duration": 19,
    "start_time": "2023-01-17T18:31:50.463Z"
   },
   {
    "duration": 33,
    "start_time": "2023-01-17T18:31:50.483Z"
   },
   {
    "duration": 105,
    "start_time": "2023-01-17T18:31:50.518Z"
   },
   {
    "duration": 9358,
    "start_time": "2023-01-17T18:31:50.625Z"
   },
   {
    "duration": 178,
    "start_time": "2023-01-17T18:31:59.985Z"
   },
   {
    "duration": 3,
    "start_time": "2023-01-17T18:32:00.165Z"
   },
   {
    "duration": 172,
    "start_time": "2023-01-17T18:32:00.169Z"
   },
   {
    "duration": 18,
    "start_time": "2023-01-17T18:32:00.348Z"
   },
   {
    "duration": 38,
    "start_time": "2023-01-17T18:32:00.367Z"
   },
   {
    "duration": 124,
    "start_time": "2023-01-17T18:32:00.406Z"
   },
   {
    "duration": 9208,
    "start_time": "2023-01-17T18:32:00.531Z"
   },
   {
    "duration": 180,
    "start_time": "2023-01-17T18:32:09.740Z"
   },
   {
    "duration": 28,
    "start_time": "2023-01-17T18:32:09.921Z"
   },
   {
    "duration": 166,
    "start_time": "2023-01-17T18:32:09.950Z"
   },
   {
    "duration": 3,
    "start_time": "2023-01-17T18:32:10.117Z"
   },
   {
    "duration": 169,
    "start_time": "2023-01-17T18:32:10.121Z"
   },
   {
    "duration": 17,
    "start_time": "2023-01-17T18:32:10.294Z"
   },
   {
    "duration": 15,
    "start_time": "2023-01-17T18:32:10.312Z"
   },
   {
    "duration": 47,
    "start_time": "2023-01-17T18:32:10.328Z"
   },
   {
    "duration": 98,
    "start_time": "2023-01-17T18:32:10.376Z"
   },
   {
    "duration": 10712,
    "start_time": "2023-01-17T18:32:10.475Z"
   },
   {
    "duration": 155,
    "start_time": "2023-01-17T18:32:21.189Z"
   },
   {
    "duration": 3,
    "start_time": "2023-01-17T18:32:21.348Z"
   },
   {
    "duration": 135,
    "start_time": "2023-01-17T18:32:21.353Z"
   },
   {
    "duration": 168,
    "start_time": "2023-01-17T18:32:21.489Z"
   },
   {
    "duration": 3,
    "start_time": "2023-01-17T18:32:21.659Z"
   },
   {
    "duration": 236,
    "start_time": "2023-01-17T18:32:21.663Z"
   },
   {
    "duration": 297,
    "start_time": "2023-01-17T18:32:21.901Z"
   },
   {
    "duration": 10,
    "start_time": "2023-01-17T18:32:22.200Z"
   },
   {
    "duration": 168,
    "start_time": "2023-01-17T18:32:22.212Z"
   },
   {
    "duration": 83,
    "start_time": "2023-01-17T18:32:22.381Z"
   },
   {
    "duration": 3,
    "start_time": "2023-01-17T18:32:22.466Z"
   },
   {
    "duration": 15,
    "start_time": "2023-01-17T18:32:22.471Z"
   },
   {
    "duration": 4,
    "start_time": "2023-01-17T18:32:22.487Z"
   },
   {
    "duration": 15,
    "start_time": "2023-01-17T18:32:22.493Z"
   },
   {
    "duration": 45,
    "start_time": "2023-01-17T18:32:22.509Z"
   },
   {
    "duration": 4,
    "start_time": "2023-01-17T18:32:22.556Z"
   },
   {
    "duration": 7035,
    "start_time": "2023-01-17T18:32:22.562Z"
   },
   {
    "duration": 170,
    "start_time": "2023-01-17T18:32:29.599Z"
   },
   {
    "duration": 116,
    "start_time": "2023-01-17T18:32:29.771Z"
   },
   {
    "duration": 8,
    "start_time": "2023-01-17T18:32:29.889Z"
   },
   {
    "duration": 179,
    "start_time": "2023-01-17T18:32:29.899Z"
   },
   {
    "duration": 2,
    "start_time": "2023-01-17T18:32:30.080Z"
   },
   {
    "duration": 317,
    "start_time": "2023-01-17T18:32:30.084Z"
   },
   {
    "duration": 20,
    "start_time": "2023-01-17T18:32:30.402Z"
   },
   {
    "duration": 250,
    "start_time": "2023-01-17T18:32:30.423Z"
   },
   {
    "duration": 32,
    "start_time": "2023-01-17T18:32:30.676Z"
   },
   {
    "duration": 142,
    "start_time": "2023-01-17T18:32:30.709Z"
   },
   {
    "duration": 128,
    "start_time": "2023-01-17T18:32:30.853Z"
   }
  ],
  "kernelspec": {
   "display_name": "Python 3 (ipykernel)",
   "language": "python",
   "name": "python3"
  },
  "language_info": {
   "codemirror_mode": {
    "name": "ipython",
    "version": 3
   },
   "file_extension": ".py",
   "mimetype": "text/x-python",
   "name": "python",
   "nbconvert_exporter": "python",
   "pygments_lexer": "ipython3",
   "version": "3.11.5"
  },
  "nbTranslate": {
   "displayLangs": [
    "*"
   ],
   "hotkey": "alt-t",
   "langInMainMenu": true,
   "sourceLang": "en",
   "targetLang": "rus",
   "useGoogleTranslate": true
  },
  "toc": {
   "base_numbering": 1,
   "nav_menu": {},
   "number_sections": true,
   "sideBar": true,
   "skip_h1_title": true,
   "title_cell": "Содержание",
   "title_sidebar": "Contents",
   "toc_cell": true,
   "toc_position": {
    "height": "calc(100% - 180px)",
    "left": "10px",
    "top": "150px",
    "width": "376px"
   },
   "toc_section_display": true,
   "toc_window_display": false
  },
  "varInspector": {
   "cols": {
    "lenName": 16,
    "lenType": 16,
    "lenVar": 40
   },
   "kernels_config": {
    "python": {
     "delete_cmd_postfix": "",
     "delete_cmd_prefix": "del ",
     "library": "var_list.py",
     "varRefreshCmd": "print(var_dic_list())"
    },
    "r": {
     "delete_cmd_postfix": ") ",
     "delete_cmd_prefix": "rm(",
     "library": "var_list.r",
     "varRefreshCmd": "cat(var_dic_list()) "
    }
   },
   "types_to_exclude": [
    "module",
    "function",
    "builtin_function_or_method",
    "instance",
    "_Feature"
   ],
   "window_display": false
  }
 },
 "nbformat": 4,
 "nbformat_minor": 5
}
